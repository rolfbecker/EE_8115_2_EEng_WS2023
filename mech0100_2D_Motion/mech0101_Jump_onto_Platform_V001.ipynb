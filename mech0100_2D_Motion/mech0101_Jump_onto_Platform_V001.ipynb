{
 "cells": [
  {
   "cell_type": "markdown",
   "id": "9196122a-65c9-4fa1-8098-2c26f4e5874d",
   "metadata": {},
   "source": [
    "# A Motobike Jumps from a Ramp onto a Platform\n",
    "\n",
    "R. Becker, 2022-10-17, V001, CC BY\n"
   ]
  },
  {
   "cell_type": "code",
   "execution_count": 1,
   "id": "69654da9-fa62-4c7d-94c6-451aeb4028c0",
   "metadata": {},
   "outputs": [
    {
     "name": "stdout",
     "output_type": "stream",
     "text": [
      "1.24.1\n",
      "3.6.3\n",
      "8.0.4\n"
     ]
    }
   ],
   "source": [
    "# Import the libs we need later.\n",
    "import numpy\n",
    "print(numpy.__version__)\n",
    "import matplotlib\n",
    "print(matplotlib.__version__)\n",
    "import ipywidgets\n",
    "print(ipywidgets.__version__)"
   ]
  },
  {
   "cell_type": "code",
   "execution_count": 2,
   "id": "853fb5c9-bb0c-491d-91f1-47fd1815465e",
   "metadata": {},
   "outputs": [],
   "source": [
    "# Import the libs we need later.\n",
    "import numpy as np\n",
    "import matplotlib.pyplot as plt\n",
    "from ipywidgets import interactive"
   ]
  },
  {
   "cell_type": "markdown",
   "id": "6357146e-1248-446e-8f9e-77a0773eac1f",
   "metadata": {},
   "source": [
    "\n",
    "## Exercise\n",
    "\n",
    "A motobike drives with speed $v_0$ on a ramp of slope angle $\\Theta$. The upper end of the ramp is selected as coordinate system origin, i.e. $\\vec{o} = (0,0)$. In a horizontal distance $L$ a platform of height $h$ is located. How fast does the motobike have to drive to be able to land on the platform?\n",
    "\n",
    "Values given: $L = 8\\,\\mathrm{m}$ , $h = 4\\,\\mathrm{m}$ , $\\Theta = 30^\\circ$ <br>\n",
    "Unknown: $v_0 = $ ?"
   ]
  },
  {
   "cell_type": "markdown",
   "id": "a9584fde-603c-45e8-a27d-f761f7d86f51",
   "metadata": {},
   "source": [
    "## Problem Description"
   ]
  },
  {
   "cell_type": "markdown",
   "id": "b1298802-ecc5-4f1d-a7c3-03b4e3e24ec0",
   "metadata": {},
   "source": [
    "Initial velocity: \n",
    "\n",
    "$$\n",
    "\\vec{v_0} = \\pmatrix{v_{0,x} \\\\ v_{0,y}} \n",
    "$$\n",
    "\n",
    "$$\n",
    "v_0 = \\left| \\vec{v}_0 \\right|\n",
    "$$\n",
    "\n",
    "$$\n",
    "\\Rightarrow\n",
    "\\begin{eqnarray}\n",
    "v_{0,x} & = & v_0\\cos{\\Theta} \\\\\n",
    "v_{0,y} & = & v_0\\sin{\\Theta} \n",
    "\\end{eqnarray}\n",
    "$$\n"
   ]
  },
  {
   "cell_type": "markdown",
   "id": "1d653875-8b4d-430d-abf6-081ea760db07",
   "metadata": {},
   "source": [
    "Constant acceleration:\n",
    "\n",
    "$$\n",
    "\\vec{a}= \\pmatrix{a_x \\\\ a_y}\n",
    "$$\n",
    "\n",
    "Time dependent location vector, the trajectory:\n",
    "\n",
    "$$\n",
    "\\vec{s}(t) =  \\pmatrix{s_{x}\\\\ s_{y}}(t) =  \\pmatrix{s_{x}(t) \\\\ s_{y}(t)}\n",
    "$$\n",
    "\n",
    "$$\n",
    "\\vec{s}_0 = \\vec{s}(t=0) = \\pmatrix{s_{0,x} \\\\ s_{0,y}}\n",
    "$$\n",
    "\n"
   ]
  },
  {
   "cell_type": "markdown",
   "id": "318a02c4-12a0-4bbf-9a0c-46f8d0af4038",
   "metadata": {},
   "source": [
    "**Physics: 2D Kinematics for Constant Acceleration:**\n",
    "\n",
    "$$\n",
    "\\vec{s}(t) = \\frac{1}{2}\\vec{a}t^2 + \\vec{v}_0 t + \\vec{s}_0\n",
    "$$\n",
    "\n",
    "**Conditions**\n",
    "\n",
    "The only **acceleration** is due to the gravitation force (in negative $z$-direction, i.e. the number $g$ is positive):\n",
    "\n",
    "$$\n",
    "\\vec{a}= \\pmatrix{0 \\\\ -g}\n",
    "$$\n",
    "\n",
    "We define the **initial starting point** as the origin of the coordinate system:\n",
    "\n",
    "$$\n",
    "\\vec{s}_0  = \\pmatrix{0\\,\\mathrm{m} \\\\ 0\\,\\mathrm{m}}\n",
    "$$\n",
    "\n",
    "Putting everything together:\n",
    "\n",
    "$$\n",
    "\\begin{eqnarray}\n",
    "\\pmatrix{s_{x}(t) \\\\ s_{y}(t)}\n",
    " & = &\\frac{1}{2}\\pmatrix{a_{x} \\\\ a_{y} }t^2 \n",
    "+ \\pmatrix{v_{0,x} \\\\ v_{0,y} } t \n",
    "+ \\pmatrix{s_{0,x} \\\\ s_{0,y}} =\n",
    "\\\\\n",
    "& = & \\frac{1}{2}\\pmatrix{0 \\\\ -g }t^2\n",
    "+ \\pmatrix{v_{0}\\cos{\\Theta} \\\\ v_{0}\\sin{\\Theta} } t + \\pmatrix{0\\;\\mathrm{m} \\\\ 0\\;\\mathrm{m}} =\n",
    "\\\\\n",
    "& = & \\pmatrix{v_0 \\cos{\\Theta} t \\\\ -\\frac{g}{2} t^2 + v_0 \\sin{\\Theta} t } \n",
    "\\end{eqnarray}\n",
    "$$\n",
    "\n",
    "Both motions in x- and y-direction are independent!\n",
    "\n",
    "Splitting the elegant vector equation into two seperate component equations in $x$- and $y$-direction an combining it with the additional information yields:\n",
    "\n",
    "$$\n",
    "\\begin{eqnarray}\n",
    "s_{x}(t) & = & v_{0,x} t & = & v_0 \\cos{\\Theta} t \\\\\n",
    "s_{y}(t) & = & -\\frac{g}{2} t^2 + v_{0,y} t & = & -\\frac{g}{2} t^2 + v_0 \\sin{\\Theta} t\n",
    "\\end{eqnarray}\n",
    "$$"
   ]
  },
  {
   "cell_type": "code",
   "execution_count": 3,
   "id": "b9c15854-78bf-4967-871e-9fb3e3eec75c",
   "metadata": {},
   "outputs": [],
   "source": [
    "# This function determines s_x(t) and s_y(t), i.e. the trajectory\n",
    "def trajectory(t, v0, theta):\n",
    "    \n",
    "    g = 9.81\n",
    "    \n",
    "    th_rad = np.deg2rad(theta)\n",
    "    \n",
    "    sx = v0*np.cos(th_rad)*t\n",
    "    sy = -g/2 * t**2 + v0*np.sin(th_rad)*t \n",
    "               \n",
    "    return(sx,sy)"
   ]
  },
  {
   "cell_type": "markdown",
   "id": "e78ee654-74ff-4d3e-924a-6c54d80e653f",
   "metadata": {},
   "source": [
    "## Determine the minimum viable $v_0$"
   ]
  },
  {
   "cell_type": "markdown",
   "id": "eca6a541-e1b5-458c-b385-c2c286f99333",
   "metadata": {},
   "source": [
    "\n",
    "**Question 1:** <br>\n",
    "How long does it take (time $t_1$) for the body to travel the distance $L$ in x-direction?\n",
    "\n",
    "$$\n",
    "s_{x}(t_1) = v_0 \\cos{\\Theta} t_1 = L \\\\\n",
    "\\Leftrightarrow t_1 = \\frac{L}{v_0 \\cos{\\Theta}}\n",
    "$$\n"
   ]
  },
  {
   "cell_type": "markdown",
   "id": "be5c208a-e6ef-46a6-8330-bf51358d3b9b",
   "metadata": {},
   "source": [
    "**Question 2:** <br>\n",
    "In the time $t_1$ the y-coordinate of the body should be greater or equal $h$ to jump onto the platform:  $s_y(t_1) \\ge h$ <br>\n",
    "What is the minimum velocity $v_0$ to achieve this?\n",
    "\n",
    "$$\n",
    "h \\le s_{y}(t_1) = -\\frac{g}{2} t_1^2 + v_0 \\sin{\\Theta} t_1 \n",
    "= -\\frac{g}{2} \n",
    "\\left(\n",
    "\\frac{L}{v_0 \\cos{\\Theta}}\n",
    "\\right)^2 \n",
    "+ v_0 \\sin{\\Theta} \\frac{L}{v_0 \\cos{\\Theta}}\n",
    "= -\\frac{g}{2} \n",
    "\\left(\n",
    "\\frac{L}{v_0 \\cos{\\Theta}}\n",
    "\\right)^2 \n",
    "+ L\\tan{\\Theta}\n",
    "$$\n",
    "\n",
    "Solve the equation for $v_0$:\n",
    "\n",
    "$$\n",
    "\\begin{eqnarray}\n",
    "& & h  \\le -\\frac{g}{2} \n",
    "\\left(\n",
    "\\frac{L}{v_0 \\cos{\\Theta}}\n",
    "\\right)^2 \n",
    "+ L\\tan{\\Theta} \n",
    "\\\\\n",
    "& \\Leftrightarrow &\n",
    "\\left.\n",
    "h - L\\tan{\\Theta} \n",
    " \\le  -\\frac{g}{2} \n",
    "\\left(\n",
    "\\frac{L}{v_0 \\cos{\\Theta}}\n",
    "\\right)^2 \n",
    "\\qquad \n",
    "\\right|\n",
    "\\cdot(-1)\\qquad\\mathrm{Note:\\,The\\, relation\\, operator\\, changes!}\n",
    "\\\\\n",
    "& \\Leftrightarrow &\n",
    "- \\left( h - L\\tan{\\Theta} \\right) \n",
    " \\ge  \\frac{g}{2} \n",
    "\\left(\n",
    "\\frac{L}{v_0 \\cos{\\Theta}}\n",
    "\\right)^2 \n",
    "\\\\\n",
    "& \\Leftrightarrow &\n",
    "L\\tan{\\Theta} - h \n",
    " \\ge  \\frac{g}{2} \n",
    "\\frac{L^2}{v_0^2 \\cos^2{\\Theta}}\n",
    "\\\\\n",
    "\\end{eqnarray}\n",
    "$$\n",
    "\n",
    "Note: The right side is always positive! A necessary condition for relation to be solvable is that the left side is positive. This is necessary but still not suffient: It has to be greater or equal to the right.\n",
    "\n",
    "Thus we have to assume:\n",
    "$$\n",
    "\\begin{eqnarray}\n",
    "& & L\\tan{\\Theta} - h \\ge 0 \\\\\n",
    " & \\Leftrightarrow & L\\tan{\\Theta} \\ge h\n",
    "\\end{eqnarray}\n",
    "$$\n",
    "\n",
    "This makes absolutely sense! It is the projected y-coordinate $y_p$ of the initial flying direction: $\\frac{y_p}{L}=\\tan{\\Theta}$.This means if you travel in direction $\\Theta$ you would reach the height $y_p$ (the $y$-coordinate) after having traveled $L$ in $x$-direction. If this projected height is less than the height of the level you have to reach you would simply crash into the ramp and could never land on top of it. Still you have to overcome the effect of graviation."
   ]
  },
  {
   "cell_type": "markdown",
   "id": "ac683d12-703e-4cf2-b494-a1f9901f3b4e",
   "metadata": {},
   "source": [
    "\n",
    "Since the left side has to be positive (otherwise there is no solution and we would crash into the ramp) we can divide through it without changing the relation operator (aka inequality operator).\n",
    "\n",
    "$$\n",
    "\\begin{eqnarray}\n",
    "&  &\n",
    "L\\tan{\\Theta} - h \n",
    " \\ge  \\frac{g}{2} \n",
    "\\frac{L^2}{v_0^2 \\cos^2{\\Theta}} \\\\\n",
    "& \\Leftrightarrow &\n",
    "v_0^2 \\ge  \\frac{g}{2} \n",
    "\\frac{L^2}{(L\\tan{\\Theta} - h) \\cos^2{\\Theta}} \n",
    "\\\\\n",
    "\\end{eqnarray}\n",
    "$$\n",
    "\n",
    "Mathematically, this quadratic equation could have two solutions. Physically, we accept only the positive one, otherwise the distance $L$ in $x$-direction would never be covered.\n",
    "\n",
    "The final solution:\n",
    "\n",
    "$$\n",
    "v_0 \\ge  \\sqrt{\\frac{g}{2} \\frac{L^2}{(L\\tan{\\Theta} - h) \\cos^2{\\Theta}}} \n",
    "= \\sqrt{\\frac{g}{2(L\\tan{\\Theta} - h)}} \n",
    "\\frac{L}{\\cos{\\Theta} }\n",
    "\\\\\n",
    "$$\n",
    "\n",
    "Here it is assumed that $L \\ge 0$ and $\\cos{\\theta} \\gt 0$. Both assumptions make sense."
   ]
  },
  {
   "cell_type": "markdown",
   "id": "7d37c441-fdbc-4768-bc86-220ea48bbc5d",
   "metadata": {},
   "source": [
    "## Calculate the Solution for $v_0$"
   ]
  },
  {
   "cell_type": "code",
   "execution_count": 4,
   "id": "9e6803ab-9b0b-4e89-b8ca-1e8bbc6063ba",
   "metadata": {},
   "outputs": [],
   "source": [
    "# This function determines the minimum initial velocity to land on the platform or ramp\n",
    "def v0_min(h=4, L=8, theta=30):\n",
    "\n",
    "    g = 9.81\n",
    "    th_rad = np.deg2rad(theta)\n",
    "    \n",
    "    H = L*np.tan(th_rad)\n",
    "    v0 = np.sqrt( (g*L**2) / (2*(H-h)*np.cos(th_rad)**2) )\n",
    "                 \n",
    "    return(v0)"
   ]
  },
  {
   "cell_type": "code",
   "execution_count": 5,
   "id": "a1f8521b-db4f-4394-9a5c-c621e810b6d5",
   "metadata": {},
   "outputs": [
    {
     "name": "stdout",
     "output_type": "stream",
     "text": [
      "\n",
      "The minimum velocity to land on a platform of h=4.0m height in a distance of L=8.0m under an initial start angle of theta=30.0° is: vmin = 26.01m/s\n",
      "\n"
     ]
    }
   ],
   "source": [
    "h = 4.      # in m\n",
    "L = 8.      # in m\n",
    "theta = 30. # in degrees\n",
    "\n",
    "vmin = v0_min(h, L, theta)\n",
    "\n",
    "print()\n",
    "print(f\"The minimum velocity to land on a platform of h={h:.1f}m height in a distance of L={L:.1f}m under an initial start angle of theta={theta:.1f}° is: vmin = {vmin:.2f}m/s\") \n",
    "print()"
   ]
  },
  {
   "cell_type": "markdown",
   "id": "5be453a2-e0e2-4674-a07a-7ce6d7bb5b93",
   "metadata": {},
   "source": [
    "## Determine the Parabola $s_y(s_x)$\n",
    "\n",
    "Find $s_y(s_x)$.\n",
    "\n",
    "Solve $x$-motion for time: \n",
    "\n",
    "$$\n",
    "t(s_x) = \\frac{s_x}{v_0\\cos\\Theta}\n",
    "$$\n",
    "\n",
    "Substitute this time into $y$-motion:\n",
    "\n",
    "$$\n",
    "s_y(s_x) = -\\frac{g}{2} \\left(\\frac{s_x}{v_0\\cos\\Theta}\\right)^2 + v_0 \\sin{\\Theta} \\frac{s_x}{v_0\\cos\\Theta} = -\\frac{g}{2} \\left(\\frac{s_x}{v_0\\cos\\Theta}\\right)^2 + s_x\\tan\\Theta\n",
    "$$"
   ]
  },
  {
   "cell_type": "code",
   "execution_count": 6,
   "id": "bcd5de3d-c10d-4573-9020-75f2ad8a842f",
   "metadata": {},
   "outputs": [],
   "source": [
    "def s_y(s_x, v0=10, theta=30):\n",
    "    \n",
    "    g = 9.81\n",
    "    \n",
    "    th_rad = np.deg2rad(theta)\n",
    "    \n",
    "    return -g/2*(s_x/(v0*np.cos(th_rad)))**2+s_x*np.tan(th_rad) "
   ]
  },
  {
   "cell_type": "markdown",
   "id": "809a228b-d136-4c91-aff1-aa55e1148f9c",
   "metadata": {},
   "source": [
    "## Impact Time: In case the motobike jumps over the point $(L,h)$, <br> when would it land on the platform? \n",
    "\n",
    "It is assumed that the landing area is a horizontal plane at height $h$. You could ask the following questions:\n",
    "\n",
    "**Question 1:** At which $s_x$ is $s_y(s_x) = h$?\n",
    "\n",
    "or, as a function of time:\n",
    "\n",
    "**Question 2:** At which $t_2$ is $s_y(t_2) = h$?\n",
    "\n",
    "Let us follow the second approach. Since the trajectory is a parabola (quadratic function) two solutions are to be expected. The height $h$ is reached at the rising and at the falling branch of the parabola. The latter time (on the falling branch) would be the right time.\n",
    "\n",
    "$$\n",
    "h = s_{y}(t_2) = -\\frac{g}{2} t_2^2 + v_0 \\sin{\\Theta}\\,t_2 \n",
    "$$\n",
    "\n",
    "$$\n",
    "\\frac{g}{2} t_2^2 - v_0 \\sin{\\Theta}\\,t_2 + h = 0 \n",
    "$$\n",
    "\n",
    "Reminder:\n",
    "$$\n",
    "ax^2+bx+c = 0 \n",
    "\\Leftrightarrow \n",
    "x_1, x_2 = \\frac{-b \\pm \\sqrt{(b^2-4ac)}}{2a}\n",
    "$$\n",
    "\n",
    "$$\n",
    "a = \\frac{g}{2}\\;,\\;b=-v_0\\sin{\\Theta}\\;,\\;c = h\n",
    "$$"
   ]
  },
  {
   "cell_type": "code",
   "execution_count": 7,
   "id": "2e15f083-e156-4ffe-8045-dac33a5eeca1",
   "metadata": {},
   "outputs": [],
   "source": [
    "def impact_time(h=4, v0=25, theta=30):\n",
    "    g = 9.81\n",
    "    a = g/2\n",
    "    b = -v0*np.sin(np.deg2rad(theta))\n",
    "    c = h\n",
    "    ti1 = (-b - np.sqrt(b**2-4*a*c))/(2*a) \n",
    "    ti2 = (-b + np.sqrt(b**2-4*a*c))/(2*a) \n",
    "    return(ti1, ti2)"
   ]
  },
  {
   "cell_type": "markdown",
   "id": "b09f78f3-d7cd-47f2-979a-b1beb81b3f3f",
   "metadata": {},
   "source": [
    "## Interactive Plot!"
   ]
  },
  {
   "cell_type": "code",
   "execution_count": 8,
   "id": "39fc0838-f912-40b8-b638-59d813a23db3",
   "metadata": {},
   "outputs": [],
   "source": [
    "# time array\n",
    "t = np.arange(0.,5.0001,0.05)\n",
    "\n",
    "# x-coord array for parabola s_y(s_x)\n",
    "s_x = np.arange(0.,80.0001,1.)"
   ]
  },
  {
   "cell_type": "code",
   "execution_count": 9,
   "id": "2ba0b4e8-bb6d-4925-b7b5-b5b111484098",
   "metadata": {},
   "outputs": [],
   "source": [
    "def plotter1(v0=15., theta=30., L=8., h=4.): # parameters with initial values\n",
    "        \n",
    "    fig1, ax1 = plt.subplots(figsize=(12,3), dpi=150)\n",
    "\n",
    "    ax1.set_aspect('equal', 'box')\n",
    "    fig1.tight_layout()\n",
    "    \n",
    "    ax1.fill_between([L, 100], [h, h], [0, 0], color = 'y', label=\"platform\")\n",
    "    \n",
    "    sx,sy = trajectory(t,v0,theta)\n",
    "    ax1.plot(sx,sy, label=r\"$\\vec{s}(t)$ trajectory\")\n",
    "    \n",
    "    ax1.plot(s_x, s_y(s_x,v0,theta), \".\", label=\"$s_y(s_x)$ parabola\")\n",
    "    \n",
    "    H = L*np.tan(np.deg2rad(theta))\n",
    "    ax1.plot([0,L,L],[0,H,0],\"--r\", label=r\"$\\vec{v}_0$ slope triangle\")\n",
    "    \n",
    "    # plot impact point\n",
    "    syL = s_y(L, v0, theta)\n",
    "    \n",
    "    if (syL < h): # it crashes into the side of the platform\n",
    "        ax1.plot(L,syL, \"*k\", label = \"crash point\")\n",
    "        warntext = \"CRASH!\"\n",
    "        \n",
    "    else: # it can land on the platform\n",
    "        ti1,ti2 = impact_time(h, v0, theta)\n",
    "        sxi,syi = trajectory(ti2, v0, theta)\n",
    "        ax1.plot(sxi, syi, \"og\", label = \"landing point\")\n",
    "        warntext = \"Landing :-)\"\n",
    "        \n",
    "    \n",
    "    ax1.set_xlabel(r\"x in m\")\n",
    "    ax1.set_ylabel(r\"y in m\")\n",
    "    \n",
    "    ax1.set_title(\"Jump with the motobike onto the platform. Do not crash!\")\n",
    "    \n",
    "    ax1.set_xlim(0,80)\n",
    "    ax1.set_ylim(0,20)\n",
    "    \n",
    "    v0_kmh = v0*3.6\n",
    "\n",
    "    paramtext =  f\"$v_0$={v0:.1f}m/s={v0_kmh:.1f}km/h\" + \"\\n\\n\" + f\"$\\Theta$={theta:.1f}°\" + \"\\n\\n\" + f\"$L$={L:.1f}m\" + \"\\n\\n\" + f\"$h$={h:.1f}m\"  \n",
    "    ax1.text(21, 8, paramtext, fontsize=10)\n",
    "\n",
    "    ax1.text(41,15.5, warntext, fontsize=16)\n",
    "    \n",
    "    ax1.legend(loc=\"upper left\")\n",
    "    \n",
    "    ax1.grid(True)\n",
    "    \n",
    "    plt.plot()"
   ]
  },
  {
   "cell_type": "code",
   "execution_count": 10,
   "id": "4a5ba218-7cac-4dec-bcd2-75d9b5e4bb07",
   "metadata": {},
   "outputs": [
    {
     "data": {
      "application/vnd.jupyter.widget-view+json": {
       "model_id": "30948a93222f4bc2ae62c5cf858e05b0",
       "version_major": 2,
       "version_minor": 0
      },
      "text/plain": [
       "interactive(children=(FloatSlider(value=15.0, description='v0', max=30.0, min=1.0), FloatSlider(value=30.0, de…"
      ]
     },
     "execution_count": 10,
     "metadata": {},
     "output_type": "execute_result"
    }
   ],
   "source": [
    "# initialize the interactive plot\n",
    "iplot1 = interactive(\n",
    "    plotter1, \n",
    "    v0=(1.,30.,0.1),\n",
    "    theta=(0.,45.,1.),\n",
    "    L=(0.,20.,1.),\n",
    "    h=(0.,10.,1.)\n",
    ")\n",
    "\n",
    "# start the interactive plot\n",
    "iplot1"
   ]
  },
  {
   "cell_type": "code",
   "execution_count": null,
   "id": "78695e2e-c0e4-414e-a3c0-7b0d9bab7c8f",
   "metadata": {},
   "outputs": [],
   "source": []
  },
  {
   "cell_type": "code",
   "execution_count": null,
   "id": "5d671666-6cdc-4e63-9b08-ea529275d168",
   "metadata": {},
   "outputs": [],
   "source": []
  }
 ],
 "metadata": {
  "kernelspec": {
   "display_name": "Python 3 (ipykernel)",
   "language": "python",
   "name": "python3"
  },
  "language_info": {
   "codemirror_mode": {
    "name": "ipython",
    "version": 3
   },
   "file_extension": ".py",
   "mimetype": "text/x-python",
   "name": "python",
   "nbconvert_exporter": "python",
   "pygments_lexer": "ipython3",
   "version": "3.10.8"
  }
 },
 "nbformat": 4,
 "nbformat_minor": 5
}
