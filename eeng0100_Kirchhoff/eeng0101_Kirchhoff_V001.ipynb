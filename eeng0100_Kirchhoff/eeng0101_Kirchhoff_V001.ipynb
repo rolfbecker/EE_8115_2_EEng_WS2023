{
 "cells": [
  {
   "cell_type": "code",
   "execution_count": 19,
   "id": "5324ef2c-9155-4766-9fea-4b3be0ed1368",
   "metadata": {},
   "outputs": [],
   "source": [
    "import numpy as np\n",
    "from numpy.linalg import inv"
   ]
  },
  {
   "cell_type": "code",
   "execution_count": 22,
   "id": "77e92537-1ebf-4624-aca6-4eca6d891515",
   "metadata": {},
   "outputs": [
    {
     "data": {
      "text/plain": [
       "array([[-1, -1,  1],\n",
       "       [-6,  3,  0],\n",
       "       [ 0, -3, -6]])"
      ]
     },
     "execution_count": 22,
     "metadata": {},
     "output_type": "execute_result"
    }
   ],
   "source": [
    "R = np.array([[-1,-1,1],[-6,3,0],[0,-3,-6]])\n",
    "R"
   ]
  },
  {
   "cell_type": "code",
   "execution_count": 35,
   "id": "ac403e17-4b08-4245-97d0-d319e53a538a",
   "metadata": {},
   "outputs": [
    {
     "data": {
      "text/plain": [
       "array([  0, -24, -12])"
      ]
     },
     "execution_count": 35,
     "metadata": {},
     "output_type": "execute_result"
    }
   ],
   "source": [
    "V = np.array([0,-24,-12])\n",
    "V"
   ]
  },
  {
   "cell_type": "code",
   "execution_count": 31,
   "id": "48595482-7af4-4100-9c3a-20ac75896d6e",
   "metadata": {},
   "outputs": [
    {
     "data": {
      "text/plain": [
       "array([[-0.25      , -0.125     , -0.04166667],\n",
       "       [-0.5       ,  0.08333333, -0.08333333],\n",
       "       [ 0.25      , -0.04166667, -0.125     ]])"
      ]
     },
     "execution_count": 31,
     "metadata": {},
     "output_type": "execute_result"
    }
   ],
   "source": [
    "Rinv = inv(R)\n",
    "Rinv"
   ]
  },
  {
   "cell_type": "code",
   "execution_count": 32,
   "id": "72ae6086-3cda-4e70-bc8a-2a36356ef93e",
   "metadata": {},
   "outputs": [
    {
     "data": {
      "text/plain": [
       "array([[ 1.00000000e+00,  6.93889390e-18,  0.00000000e+00],\n",
       "       [ 0.00000000e+00,  1.00000000e+00,  0.00000000e+00],\n",
       "       [ 0.00000000e+00, -1.38777878e-17,  1.00000000e+00]])"
      ]
     },
     "execution_count": 32,
     "metadata": {},
     "output_type": "execute_result"
    }
   ],
   "source": [
    "(R.dot(Rinv))"
   ]
  },
  {
   "cell_type": "code",
   "execution_count": 34,
   "id": "0c4350e5-fbc5-4db3-be08-f3537bf43bc8",
   "metadata": {},
   "outputs": [
    {
     "data": {
      "text/plain": [
       "array([ 3.5, -1. ,  2.5])"
      ]
     },
     "execution_count": 34,
     "metadata": {},
     "output_type": "execute_result"
    }
   ],
   "source": [
    "I = Rinv.dot(V)\n",
    "I"
   ]
  },
  {
   "cell_type": "code",
   "execution_count": 40,
   "id": "1a0e0b13-9ca3-4459-be2f-9f7878b0bb95",
   "metadata": {},
   "outputs": [
    {
     "name": "stdout",
     "output_type": "stream",
     "text": [
      "5.04576e+09\n"
     ]
    }
   ],
   "source": [
    "print(f\"{2*60*60*24*365*80:g}\")"
   ]
  },
  {
   "cell_type": "code",
   "execution_count": 41,
   "id": "3dbbad23-bce1-4d7b-898c-34da7206ebf6",
   "metadata": {},
   "outputs": [
    {
     "data": {
      "text/plain": [
       "0.6242197253433208"
      ]
     },
     "execution_count": 41,
     "metadata": {},
     "output_type": "execute_result"
    }
   ],
   "source": [
    "1/1.602"
   ]
  },
  {
   "cell_type": "code",
   "execution_count": null,
   "id": "71091c27-d1ea-42a3-9920-e188f1505212",
   "metadata": {},
   "outputs": [],
   "source": []
  }
 ],
 "metadata": {
  "kernelspec": {
   "display_name": "Python 3 (ipykernel)",
   "language": "python",
   "name": "python3"
  },
  "language_info": {
   "codemirror_mode": {
    "name": "ipython",
    "version": 3
   },
   "file_extension": ".py",
   "mimetype": "text/x-python",
   "name": "python",
   "nbconvert_exporter": "python",
   "pygments_lexer": "ipython3",
   "version": "3.10.8"
  }
 },
 "nbformat": 4,
 "nbformat_minor": 5
}
