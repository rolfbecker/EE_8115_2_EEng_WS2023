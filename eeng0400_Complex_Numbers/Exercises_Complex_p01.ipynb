{
 "cells": [
  {
   "cell_type": "markdown",
   "id": "e285fa9d-8df5-4358-b7ca-252de4de349a",
   "metadata": {
    "tags": []
   },
   "source": [
    "# Exercises on Complex Electrical Impedance\n",
    "\n",
    "The complex impedance reads:\n",
    "\n",
    "$$\n",
    "Z = R + iX\n",
    "$$\n",
    "\n",
    "* The resistance $R$ is the real part of complex impedance $Z$\n",
    "* The reactance $X$ is the imaginary part of complex impedance $Z$\n",
    "  \n",
    "Further information on Wikipedia: https://en.wikipedia.org/wiki/Electrical_impedance"
   ]
  },
  {
   "cell_type": "markdown",
   "id": "fc90832f-556a-470e-860f-17659d430b1e",
   "metadata": {},
   "source": [
    "**Euler and Cartesian Representation:**\n",
    "\n",
    "$$\n",
    "z = r e^{i\\phi} = |z|e^{i\\phi} = r\\left(\\cos\\phi +i\\sin\\phi \\right) = a + ib\n",
    "$$\n",
    "\n",
    "$$\n",
    "|z|^2 = \\bar{z}z = (a+ib)(a-ib) = a^2 - (ib)^2 = a^2 - i^2b^2 = a^2 -(-1)b^2 = a^2 + b^2\n",
    "$$\n",
    "\n",
    "$$\n",
    "|z| = \\sqrt{a^2 + b^2}\n",
    "$$\n",
    "\n",
    "\n",
    "$$\n",
    "\\tan\\phi = \\frac{b}{a}\n",
    "$$"
   ]
  },
  {
   "cell_type": "markdown",
   "id": "ebd78d92-b602-4463-b4d3-83cab536a8ff",
   "metadata": {},
   "source": [
    "**Exercise 1:**<br>\n",
    "Draw the following complex numbers of the form $z = a+ib$ in the complex plane with Cartesian coordinates with $x$-axis the real and $y$-axis the imaginary part:\n",
    "* $z_1 = \\frac{\\sqrt{2}}{2}\\left(1+i \\right)$\n",
    "* $z_2 = \\frac{\\sqrt{2}}{2}\\left(-1+i \\right)$\n",
    "* $z_3 = i$\n",
    "* $z_4 = -i$  \n",
    "* $z_5 = \\sqrt{2}\\left(-1-i \\right)$\n",
    "* $z_6 = 4+3i$\n",
    "* $z_7 = 3-4i$\n"
   ]
  },
  {
   "cell_type": "markdown",
   "id": "6d85c04e-9e97-4b7e-9345-2e416cd96ffc",
   "metadata": {},
   "source": [
    "**Exercise 2:**<br>\n",
    "Convert the the above complex numbers to Euler notation: $z = |z|e^{i\\phi}$"
   ]
  },
  {
   "cell_type": "markdown",
   "id": "b094eddc-97b8-4326-b02e-ffb12e394e8a",
   "metadata": {},
   "source": [
    "**Exercise 3:** <br>\n",
    "Calculate the following products in Euler as well as Cartesian notation and draw them in the diagram:\n",
    "* $z_8 = z_6 \\cdot z_3$\n",
    "* $z_9 = z_6 \\cdot z_4$\n",
    "* $z_{10} = z_1 \\cdot z_1$\n",
    "* $z_{11} = z_1 \\cdot z_1 \\cdot z_1$\n",
    "* $z_{12} = z_1^4$  "
   ]
  },
  {
   "cell_type": "markdown",
   "id": "36691e03-b428-4904-90de-4a8ec8285f56",
   "metadata": {},
   "source": [
    "**Exercise 4:**<br>\n",
    "Two complex numbers are given: $z_{13}=e^{\\pi/4}$ and $z_{14}=e^{3\\pi/4}$. Calculate $z_{15} = z_{13}-z_{14}$. Hint: Consider to transform to Cartesian representation with explicit real and imaginary part."
   ]
  },
  {
   "cell_type": "markdown",
   "id": "c434c191-76ec-4885-9083-cfa8a052ca65",
   "metadata": {},
   "source": [
    "**Exercise 5:**<br>\n",
    "The imaginary unit $i$ has this fundamental property: $i^2 = -1$. Show that $\\frac{1}{i} = -i$.\n"
   ]
  },
  {
   "cell_type": "markdown",
   "id": "01e5a1df-ec74-4e50-9154-1cb901e95d55",
   "metadata": {},
   "source": [
    "**Exercise 6:**<br>\n",
    "The complex reactance of a capacitor is $X_C = \\frac{1}{i\\omega C}$. The total complex impedance of an ideal capacitor (with internal resistance $R = 0 \\Omega$) is: \n",
    "\n",
    "$\n",
    "Z = R + X_C = 0 + X_C =  \\frac{1}{i\\omega C}\n",
    "$\n",
    "\n",
    "The extended Ohm's law holds: $I = \\frac{V}{Z}$.\n",
    "\n",
    "It follows: $I(t) = i\\omega CV(t)$.\n",
    "\n",
    "The capacitor $C$ is connected to a voltage source $V(t)$ with sinusoidal output: $V(t)=V_0e^{i\\omega t}$.\n",
    "\n",
    "Substitute this into the equation for $I(t)$ and convert it into pure Euler notation: \n",
    "\n",
    "$\n",
    "I(t)=I_0e^{i(\\omega t+ \\phi)}\n",
    "$.\n",
    "\n",
    "All factors in front of the exponential function are summarized in one factor $I_0$. This current amplitude factor is dependent on the frequency of the oscillation.\n",
    "\n",
    "**Ex. 6.1:**<br>\n",
    "Write down the amplitude $I_0$ as a function of $\\omega$ and other factors.\n",
    "\n",
    "**Ex. 6.2:**<br>\n",
    "How large is the phase shift $\\phi$?\n",
    "\n",
    "**Ex. 6.3:**<br>\n",
    "The following values are given:\n",
    "* $C=1\\mathrm{\\mu F}$\n",
    "* $V_0=100\\mathrm{V}$\n",
    "* $f_1=1\\mathrm{Hz}$, $f_2=2\\mathrm{Hz}$\n",
    "  \n",
    "Determine the angular frequencies $\\omega_1$ and $\\omega_2$ according to $f_1$ and $f_2$, respectively.\n",
    "\n",
    "Draw $\\mathrm{Re}(V(t))$ and $\\mathrm{Re}(I(t))$ in an amplitude-time-diagram. Set the range of the $t$-axis (the $x$-axis) to: \n",
    "$0\\mathrm{s} \\le t \\le 2\\mathrm{s}$. Use two $y$-axes in the diagram, one for voltage, one for current, since units and orders of magnitudes are dfferent. "
   ]
  },
  {
   "cell_type": "markdown",
   "id": "c1ffe980-75c3-48c5-8d5b-15732d490fc4",
   "metadata": {},
   "source": [
    "**Exercise 7:**<br>\n",
    "Control your results of Exercise 6 with **LTspice**."
   ]
  },
  {
   "cell_type": "code",
   "execution_count": null,
   "id": "34423a3e-d0b4-42b1-a56b-c63b521bcdf1",
   "metadata": {},
   "outputs": [],
   "source": []
  }
 ],
 "metadata": {
  "kernelspec": {
   "display_name": "Python 3 (ipykernel)",
   "language": "python",
   "name": "python3"
  },
  "language_info": {
   "codemirror_mode": {
    "name": "ipython",
    "version": 3
   },
   "file_extension": ".py",
   "mimetype": "text/x-python",
   "name": "python",
   "nbconvert_exporter": "python",
   "pygments_lexer": "ipython3",
   "version": "3.9.13"
  }
 },
 "nbformat": 4,
 "nbformat_minor": 5
}
