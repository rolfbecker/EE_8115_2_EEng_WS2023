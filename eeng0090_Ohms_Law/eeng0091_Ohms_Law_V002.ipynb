{
 "cells": [
  {
   "cell_type": "markdown",
   "id": "b99fd871-f652-4023-be61-024d4feb2e9b",
   "metadata": {},
   "source": [
    "# Ohm's Law - Experiments"
   ]
  },
  {
   "cell_type": "code",
   "execution_count": 1,
   "id": "aa06c3f7-731f-4eb4-9ee5-3f08e7dbab95",
   "metadata": {},
   "outputs": [],
   "source": [
    "import pandas as pd\n",
    "import numpy as np\n",
    "import matplotlib.pyplot as plt\n",
    "from ipywidgets import interactive"
   ]
  },
  {
   "cell_type": "markdown",
   "id": "37dff1e3-cc73-4761-9d89-9aa62f54ec1a",
   "metadata": {},
   "source": [
    "## Experiment 1"
   ]
  },
  {
   "cell_type": "code",
   "execution_count": 2,
   "id": "fd31b40b-1149-4480-a5f5-3979bd414899",
   "metadata": {},
   "outputs": [],
   "source": [
    "df1=pd.read_csv(\"./data/V-I_curve_R1_10k_Ohms.csv\",sep=\";\",index_col=\"V / V\")"
   ]
  },
  {
   "cell_type": "code",
   "execution_count": 3,
   "id": "be12b015-0b34-4471-a1bf-f4a3e5447d8c",
   "metadata": {},
   "outputs": [
    {
     "data": {
      "text/html": [
       "<div>\n",
       "<style scoped>\n",
       "    .dataframe tbody tr th:only-of-type {\n",
       "        vertical-align: middle;\n",
       "    }\n",
       "\n",
       "    .dataframe tbody tr th {\n",
       "        vertical-align: top;\n",
       "    }\n",
       "\n",
       "    .dataframe thead th {\n",
       "        text-align: right;\n",
       "    }\n",
       "</style>\n",
       "<table border=\"1\" class=\"dataframe\">\n",
       "  <thead>\n",
       "    <tr style=\"text-align: right;\">\n",
       "      <th></th>\n",
       "      <th>j</th>\n",
       "      <th>I / uA</th>\n",
       "      <th>P / uW</th>\n",
       "    </tr>\n",
       "    <tr>\n",
       "      <th>V / V</th>\n",
       "      <th></th>\n",
       "      <th></th>\n",
       "      <th></th>\n",
       "    </tr>\n",
       "  </thead>\n",
       "  <tbody>\n",
       "    <tr>\n",
       "      <th>0.000</th>\n",
       "      <td>1</td>\n",
       "      <td>0.0</td>\n",
       "      <td>0.0000</td>\n",
       "    </tr>\n",
       "    <tr>\n",
       "      <th>0.341</th>\n",
       "      <td>2</td>\n",
       "      <td>34.1</td>\n",
       "      <td>11.6281</td>\n",
       "    </tr>\n",
       "    <tr>\n",
       "      <th>0.629</th>\n",
       "      <td>3</td>\n",
       "      <td>62.9</td>\n",
       "      <td>39.5641</td>\n",
       "    </tr>\n",
       "    <tr>\n",
       "      <th>0.999</th>\n",
       "      <td>4</td>\n",
       "      <td>99.9</td>\n",
       "      <td>99.8001</td>\n",
       "    </tr>\n",
       "    <tr>\n",
       "      <th>1.577</th>\n",
       "      <td>5</td>\n",
       "      <td>157.8</td>\n",
       "      <td>248.8506</td>\n",
       "    </tr>\n",
       "  </tbody>\n",
       "</table>\n",
       "</div>"
      ],
      "text/plain": [
       "       j  I / uA    P / uW\n",
       "V / V                     \n",
       "0.000  1     0.0    0.0000\n",
       "0.341  2    34.1   11.6281\n",
       "0.629  3    62.9   39.5641\n",
       "0.999  4    99.9   99.8001\n",
       "1.577  5   157.8  248.8506"
      ]
     },
     "execution_count": 3,
     "metadata": {},
     "output_type": "execute_result"
    }
   ],
   "source": [
    "df1.head()"
   ]
  },
  {
   "cell_type": "code",
   "execution_count": 4,
   "id": "1b14dca5-ac2a-42a3-abae-d83a09f6979a",
   "metadata": {},
   "outputs": [],
   "source": [
    "def plotter1(I01=100, G1=80):\n",
    "    fig1, ax1 = plt.subplots(figsize=(8,6), dpi=136)\n",
    "#    df[\"I / uA\"].plot(ax=ax1, style=\"x\", label=r\"$I\\; / \\; \\mathrm{\\mu A}$\")\n",
    "    \n",
    "    Vset1=df1.index.values\n",
    "    \n",
    "    N1=len(Vset1)\n",
    "    \n",
    "    Imeas1 = df1[\"I / uA\"]\n",
    "    Imodel1=I01+G1*Vset1\n",
    "    DIrms1=np.mean(np.sqrt(((Imeas1-Imodel1)**2)))\n",
    "    \n",
    "    ax1.text(0, 800, f'Mean Square Error = {DIrms1:.2f}', fontsize=15)\n",
    "    \n",
    "    Imeas1.plot(ax=ax1, style=\"x\", label=\"measurements\")\n",
    "    \n",
    "    ax1.plot(Vset1,Imodel1, \".-\", label=\"linear model\")\n",
    "    ax1.plot([Vset1, Vset1],[Imodel1,Imeas1],\"k-\")\n",
    "    \n",
    "    ax1.set_xlabel(r\"Voltage $V$ in V\")\n",
    "    ax1.set_ylabel(r\"Current $I$ in $\\mathrm{\\mu A}$\")\n",
    "    \n",
    "    ax1.set_title(\"Voltage-Current-Characteristics of an Unknown Resistor\")\n",
    "    \n",
    "    ax1.set_xlim(-1,11)\n",
    "    ax1.set_ylim(-100,1100)\n",
    "    \n",
    "    ax1.legend()\n",
    "    \n",
    "    ax1.grid(True)\n",
    "    \n",
    "    plt.plot()"
   ]
  },
  {
   "cell_type": "code",
   "execution_count": 5,
   "id": "9557266b-45fd-4495-94b5-2fd763f5c61f",
   "metadata": {},
   "outputs": [
    {
     "data": {
      "application/vnd.jupyter.widget-view+json": {
       "model_id": "a7667a9ee7e944f183b68eb21169b89f",
       "version_major": 2,
       "version_minor": 0
      },
      "text/plain": [
       "interactive(children=(IntSlider(value=100, description='I01', max=140, min=-140), IntSlider(value=80, descript…"
      ]
     },
     "execution_count": 5,
     "metadata": {},
     "output_type": "execute_result"
    }
   ],
   "source": [
    "# initialize the interactive plot\n",
    "iplot1 = interactive(\n",
    "    plotter1, \n",
    "    I01=(-140,140,1),\n",
    "    G1=(50,150,1)\n",
    ")\n",
    "\n",
    "# start the interactive plot\n",
    "iplot1"
   ]
  },
  {
   "cell_type": "markdown",
   "id": "2d3b9450-45ab-47da-b600-3e6638c8e4d4",
   "metadata": {},
   "source": [
    "## Experiment 2"
   ]
  },
  {
   "cell_type": "code",
   "execution_count": 6,
   "id": "f4825569-b681-46a8-83a8-4d0af77c42e9",
   "metadata": {
    "tags": []
   },
   "outputs": [],
   "source": [
    "df2=pd.read_csv(\"./data/V-I_curve_R2_10_Ohms.csv\",sep=\";\",index_col=\"V / V\")"
   ]
  },
  {
   "cell_type": "code",
   "execution_count": 7,
   "id": "ad6f5db7-aa53-4320-b316-3a3af4661b13",
   "metadata": {},
   "outputs": [
    {
     "data": {
      "text/html": [
       "<div>\n",
       "<style scoped>\n",
       "    .dataframe tbody tr th:only-of-type {\n",
       "        vertical-align: middle;\n",
       "    }\n",
       "\n",
       "    .dataframe tbody tr th {\n",
       "        vertical-align: top;\n",
       "    }\n",
       "\n",
       "    .dataframe thead th {\n",
       "        text-align: right;\n",
       "    }\n",
       "</style>\n",
       "<table border=\"1\" class=\"dataframe\">\n",
       "  <thead>\n",
       "    <tr style=\"text-align: right;\">\n",
       "      <th></th>\n",
       "      <th>I / mA</th>\n",
       "      <th>P / mW</th>\n",
       "    </tr>\n",
       "    <tr>\n",
       "      <th>V / V</th>\n",
       "      <th></th>\n",
       "      <th></th>\n",
       "    </tr>\n",
       "  </thead>\n",
       "  <tbody>\n",
       "    <tr>\n",
       "      <th>0.00</th>\n",
       "      <td>0.00</td>\n",
       "      <td>0.00</td>\n",
       "    </tr>\n",
       "    <tr>\n",
       "      <th>0.33</th>\n",
       "      <td>20.13</td>\n",
       "      <td>6.60</td>\n",
       "    </tr>\n",
       "    <tr>\n",
       "      <th>0.65</th>\n",
       "      <td>40.00</td>\n",
       "      <td>26.12</td>\n",
       "    </tr>\n",
       "    <tr>\n",
       "      <th>1.12</th>\n",
       "      <td>68.60</td>\n",
       "      <td>76.83</td>\n",
       "    </tr>\n",
       "    <tr>\n",
       "      <th>1.51</th>\n",
       "      <td>92.30</td>\n",
       "      <td>139.19</td>\n",
       "    </tr>\n",
       "  </tbody>\n",
       "</table>\n",
       "</div>"
      ],
      "text/plain": [
       "       I / mA  P / mW\n",
       "V / V                \n",
       "0.00     0.00    0.00\n",
       "0.33    20.13    6.60\n",
       "0.65    40.00   26.12\n",
       "1.12    68.60   76.83\n",
       "1.51    92.30  139.19"
      ]
     },
     "execution_count": 7,
     "metadata": {},
     "output_type": "execute_result"
    }
   ],
   "source": [
    "df2.head()"
   ]
  },
  {
   "cell_type": "code",
   "execution_count": 8,
   "id": "911ac256-8b66-43ce-9cdc-b9be887634cc",
   "metadata": {},
   "outputs": [],
   "source": [
    "def plotter2(I02=100, G2=80):\n",
    "    fig2, ax2 = plt.subplots(figsize=(8,6), dpi=136)\n",
    "    \n",
    "    Vset2=df2.index.values\n",
    "    \n",
    "    N2=len(Vset2)\n",
    "    \n",
    "    Imeas2 = df2[\"I / mA\"]\n",
    "    Imodel2 = I02+G2*Vset2\n",
    "    DIrms2=np.mean(np.sqrt(((Imeas2-Imodel2)**2)))\n",
    "    \n",
    "    ax2.text(0, 800, f'Mean Square Error = {DIrms2:.2f}', fontsize=15)\n",
    "    \n",
    "    Imeas2.plot(ax=ax2, style=\"x\", label=\"measurements\")\n",
    "    \n",
    "    ax2.plot(Vset2,Imodel2, \".-\", label=\"linear model\")\n",
    "    ax2.plot([Vset2, Vset2],[Imodel2,Imeas2],\"k-\")\n",
    "    \n",
    "    ax2.set_xlabel(r\"Voltage $V$ in V\")\n",
    "    ax2.set_ylabel(r\"Current $I$ in $\\mathrm{mA}$\")\n",
    "    \n",
    "    ax2.set_title(\"Voltage-Current-Characteristics of an Unknown Resistor\")\n",
    "    \n",
    "    ax2.set_xlim(-1,11)\n",
    "    ax2.set_ylim(-100,1100)\n",
    "    \n",
    "    ax2.legend()\n",
    "    \n",
    "    ax2.grid(True)\n",
    "    \n",
    "    plt.plot()"
   ]
  },
  {
   "cell_type": "code",
   "execution_count": 9,
   "id": "4db2d60e-ad01-4c77-b5b6-1026a3757749",
   "metadata": {},
   "outputs": [
    {
     "data": {
      "application/vnd.jupyter.widget-view+json": {
       "model_id": "4a3db43b94754a64a5fd024fe3060999",
       "version_major": 2,
       "version_minor": 0
      },
      "text/plain": [
       "interactive(children=(IntSlider(value=100, description='I02', max=140, min=-140), IntSlider(value=80, descript…"
      ]
     },
     "execution_count": 9,
     "metadata": {},
     "output_type": "execute_result"
    }
   ],
   "source": [
    "# initialize the interactive plot\n",
    "iplot2 = interactive(\n",
    "    plotter2, \n",
    "    I02=(-140,140,1),\n",
    "    G2=(50,150,1)\n",
    ")\n",
    "\n",
    "# start the interactive plot\n",
    "iplot2"
   ]
  },
  {
   "cell_type": "code",
   "execution_count": null,
   "id": "62b88a49-190e-40da-ad6a-8699b5ff8052",
   "metadata": {},
   "outputs": [],
   "source": []
  },
  {
   "cell_type": "code",
   "execution_count": null,
   "id": "af2e78d7-24f1-4e5a-9650-2aed42ced84a",
   "metadata": {},
   "outputs": [],
   "source": []
  }
 ],
 "metadata": {
  "kernelspec": {
   "display_name": "Python 3 (ipykernel)",
   "language": "python",
   "name": "python3"
  },
  "language_info": {
   "codemirror_mode": {
    "name": "ipython",
    "version": 3
   },
   "file_extension": ".py",
   "mimetype": "text/x-python",
   "name": "python",
   "nbconvert_exporter": "python",
   "pygments_lexer": "ipython3",
   "version": "3.9.13"
  }
 },
 "nbformat": 4,
 "nbformat_minor": 5
}
