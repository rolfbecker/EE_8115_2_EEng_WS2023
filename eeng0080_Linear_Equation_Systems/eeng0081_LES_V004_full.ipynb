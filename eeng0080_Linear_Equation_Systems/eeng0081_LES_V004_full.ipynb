{
 "cells": [
  {
   "cell_type": "markdown",
   "id": "8db9f728-91b4-4d9d-921a-61b7768be6cb",
   "metadata": {
    "tags": []
   },
   "source": [
    "# Solving Linear Equation Systems (LES) <br>through Gauß Elimination by Pivoting\n"
   ]
  },
  {
   "cell_type": "markdown",
   "id": "52a17960-20cf-41dd-9f97-1b9fc5889382",
   "metadata": {},
   "source": [
    "## All Necessary Imports"
   ]
  },
  {
   "cell_type": "code",
   "execution_count": 2,
   "id": "dc7260eb-4366-4c02-96c1-76ec610943cd",
   "metadata": {},
   "outputs": [],
   "source": [
    "import numpy as np\n",
    "from IPython.display import display, Markdown, Latex, Math"
   ]
  },
  {
   "cell_type": "markdown",
   "id": "fbf66f3b-cdc2-4d3b-95cc-44b59abc015c",
   "metadata": {},
   "source": [
    "## An Example of a Linear Equation System ##\n",
    "\n",
    "The matrix $M$ represents the **LES** resulting from **Kirchhoff's Laws** applied to an **electrical circuit**, which is discussed in the video tutorials of the **NunezPhysics YouTube channel**.\n",
    "\n",
    "To understand how to derive the LES from Kirchhoff's Laws please **watch the video tutorials** of **NunezPhysics**:\n",
    "\n",
    "* [Kirchhoff's Law Part 1](https://www.youtube.com/watch?v=zdE7xsbuNTg)\n",
    "* [Kirchhoff's Law Part 2](https://www.youtube.com/watch?v=hlUW2u-z69g)\n",
    "\n",
    "You can find additional comments on the [teawiki.net](https://teawiki.net/doku.php?id=eeng:topics:kirchhoff_s_circuit_laws:start) wiki page.\n",
    "\n"
   ]
  },
  {
   "cell_type": "markdown",
   "id": "834ca03c-acf0-4f07-bcd6-9a888117b5b7",
   "metadata": {},
   "source": [
    "The correct form of the LES based of physical quantities would be **with units**:\n",
    "\n",
    "$\n",
    "\\begin{pmatrix}\n",
    "-1.0 & -1.0 & 1.0 \\\\ \n",
    "-6.0 & 3.0 & 0.0 \\\\ \n",
    "0.0 & -3.0 & -6.0 \n",
    "\\end{pmatrix}\n",
    "\\mathrm{Ohms}\n",
    "\\cdot \\vec{I} = \\begin{pmatrix} 0 \\\\ -24 \\\\ -12 \\end{pmatrix}\n",
    "\\mathrm{Volts}\n",
    "$\n",
    "\n",
    "Without units is easier to read:\n",
    "\n",
    "$\n",
    "\\begin{pmatrix}\n",
    "-1.0 & -1.0 & 1.0 \\\\ \n",
    "-6.0 & 3.0 & 0.0 \\\\ \n",
    "0.0 & -3.0 & -6.0 \n",
    "\\end{pmatrix}\n",
    "\\vec{I} = \n",
    "\\begin{pmatrix} \n",
    "0 \\\\ -24 \\\\ -12 \n",
    "\\end{pmatrix}\n",
    "$\n",
    "\n",
    "\n",
    "$\n",
    "\\begin{pmatrix}\n",
    "-1.0 & -1.0 & 1.0 \\\\ \n",
    "-6.0 & 3.0 & 0.0 \\\\ \n",
    "0.0 & -3.0 & -6.0 \n",
    "\\end{pmatrix}\n",
    "\\begin{pmatrix}\n",
    "I_1 \\\\ \n",
    "I_2 \\\\ \n",
    "I_3 \n",
    "\\end{pmatrix} = \n",
    "\\begin{pmatrix} \n",
    "0 \\\\ -24 \\\\ -12 \n",
    "\\end{pmatrix}\n",
    "$\n",
    "\n",
    "The vector\n",
    "$\n",
    "\\vec{I} = \n",
    "\\begin{pmatrix}\n",
    "I_1 \\\\ \n",
    "I_2 \\\\ \n",
    "I_3 \n",
    "\\end{pmatrix}\n",
    "$\n",
    "contains the three unknown currents of the circuit problem discussed in the videos."
   ]
  },
  {
   "cell_type": "markdown",
   "id": "501f1b32-1740-430c-bf92-d0dd6d49d537",
   "metadata": {},
   "source": [
    "## The LES Matrix in numpy"
   ]
  },
  {
   "cell_type": "code",
   "execution_count": 25,
   "id": "70d38626-9720-454f-9c43-5dec0e4984d5",
   "metadata": {},
   "outputs": [],
   "source": [
    "# A matrix is an array of rows, which are arrays. Thus a matrix is a two dimensional array.\n",
    "# The numpy.array() function is used to create 2D array (aka matrix) from a list of row lists.\n",
    "M = np.array(\n",
    "    [\n",
    "        [-1.0, -1.0,  1.0,   0.0],\n",
    "        [-6.0,  3.0,  0.0, -24.0],\n",
    "        [ 0.0, -3.0, -6.0, -12.0]\n",
    "    ])\n"
   ]
  },
  {
   "cell_type": "code",
   "execution_count": 26,
   "id": "965e1bed-3f77-4364-904c-649c4e0ba764",
   "metadata": {},
   "outputs": [
    {
     "data": {
      "text/plain": [
       "array([[ -1.,  -1.,   1.,   0.],\n",
       "       [ -6.,   3.,   0., -24.],\n",
       "       [  0.,  -3.,  -6., -12.]])"
      ]
     },
     "execution_count": 26,
     "metadata": {},
     "output_type": "execute_result"
    }
   ],
   "source": [
    "# What is in M?\n",
    "M"
   ]
  },
  {
   "cell_type": "code",
   "execution_count": 27,
   "id": "77dba2ae-847f-4fdf-a935-b836a4479c19",
   "metadata": {},
   "outputs": [
    {
     "name": "stdout",
     "output_type": "stream",
     "text": [
      "[[ -1.  -1.   1.   0.]\n",
      " [ -6.   3.   0. -24.]\n",
      " [  0.  -3.  -6. -12.]]\n"
     ]
    }
   ],
   "source": [
    "# Nicer print output\n",
    "print(M)"
   ]
  },
  {
   "cell_type": "markdown",
   "id": "9ff0b1dd-3f6f-4f5a-9469-0e8c66bfce1d",
   "metadata": {},
   "source": [
    "### Nice Matrix Rendering in Markdown ###\n",
    "\n",
    "The rendered Markdown output generated from Python code makes the matrix representation even nicer. "
   ]
  },
  {
   "cell_type": "code",
   "execution_count": 28,
   "id": "eded46e9-80f8-489e-acfc-6ab61881bf46",
   "metadata": {},
   "outputs": [],
   "source": [
    "def Mat2MD(M, name=\"\", idx=\"\", fmt=\"\"):\n",
    "    '''\n",
    "    2D numpy matrix to markdown code. \n",
    "    Generates a markdown string which can be rendered, e.g. by \n",
    "    IPython.display.display(Math(Mat2MD(M))).\n",
    "    \n",
    "    Parameters:\n",
    "    M: 2D numpy array, the matrix\n",
    "    name: matrix name to be used in the rendering, \n",
    "          e.g. name=\"A\" renders to $A=...$\n",
    "    idx: index of the matrix name, \n",
    "         e.g. idx=\"k\" renders to $A_k=...$\n",
    "    fmt: number format of the matrix elements, \n",
    "         e.g. fmt=\".2f\" print floating point format with 2 decimals.\n",
    "    '''\n",
    "    matrix_string = \"\"\n",
    "    for r in M:\n",
    "        if matrix_string: matrix_string += r\" \\\\ \"\n",
    "#        fmt_string = f\"{x}\"\n",
    "        matrix_string += \" & \".join([f\"{x:{fmt}}\" for x in r])\n",
    "    if name:\n",
    "        if idx:\n",
    "            Mstr = name + \"_\" + idx + \"=\"\n",
    "        else:\n",
    "            Mstr = name + \"=\"\n",
    "    else:\n",
    "        Mstr = \"\"\n",
    "\n",
    "    return(Mstr + r\"\\begin{pmatrix}\" + matrix_string + r\"\\end{pmatrix}\")"
   ]
  },
  {
   "cell_type": "code",
   "execution_count": 41,
   "id": "8f561f21-86ae-4128-8bc2-f22c7da79d72",
   "metadata": {},
   "outputs": [
    {
     "name": "stdout",
     "output_type": "stream",
     "text": [
      "Help on function Mat2MD in module __main__:\n",
      "\n",
      "Mat2MD(M, name='', idx='', fmt='')\n",
      "    2D numpy matrix to markdown code. \n",
      "    Generates a markdown string which can be rendered, e.g. by \n",
      "    IPython.display.display(Math(Mat2MD(M))).\n",
      "    \n",
      "    Parameters:\n",
      "    M: 2D numpy array, the matrix\n",
      "    name: matrix name to be used in the rendering, \n",
      "          e.g. name=\"A\" renders to $A=...$\n",
      "    idx: index of the matrix name, \n",
      "         e.g. idx=\"k\" renders to $A_k=...$\n",
      "    fmt: number format of the matrix elements, \n",
      "         e.g. fmt=\".2f\" print floating point format with 2 decimals.\n",
      "\n"
     ]
    }
   ],
   "source": [
    "help(Mat2MD)"
   ]
  },
  {
   "cell_type": "code",
   "execution_count": 35,
   "id": "9dd5ea2f-81b6-4426-89c7-c9c1df5fe776",
   "metadata": {},
   "outputs": [
    {
     "name": "stdout",
     "output_type": "stream",
     "text": [
      "[[ -1.  -1.   1.   0.]\n",
      " [ -6.   3.   0. -24.]\n",
      " [  0.  -3.  -6. -12.]]\n",
      "\n",
      "Math string:\n",
      "\n",
      "\\begin{pmatrix}-1.0 & -1.0 & 1.0 & 0.0 \\\\ -6.0 & 3.0 & 0.0 & -24.0 \\\\ 0.0 & -3.0 & -6.0 & -12.0\\end{pmatrix}\n",
      "\n"
     ]
    },
    {
     "data": {
      "text/latex": [
       "$\\displaystyle \\begin{pmatrix}-1.0 & -1.0 & 1.0 & 0.0 \\\\ -6.0 & 3.0 & 0.0 & -24.0 \\\\ 0.0 & -3.0 & -6.0 & -12.0\\end{pmatrix}$"
      ],
      "text/plain": [
       "<IPython.core.display.Math object>"
      ]
     },
     "metadata": {},
     "output_type": "display_data"
    }
   ],
   "source": [
    "print(M)\n",
    "print()\n",
    "print(\"Math string:\")\n",
    "print()\n",
    "print(Mat2MD(M))\n",
    "print()\n",
    "display(Math(Mat2MD(M)))"
   ]
  },
  {
   "cell_type": "code",
   "execution_count": 36,
   "id": "de5c10f2-c17d-4143-8519-aebaa39a1a0b",
   "metadata": {},
   "outputs": [
    {
     "data": {
      "text/latex": [
       "$\\displaystyle \\begin{pmatrix}-1.0 & -1.0 & 1.0 & 0.0 \\\\ -6.0 & 3.0 & 0.0 & -24.0 \\\\ 0.0 & -3.0 & -6.0 & -12.0\\end{pmatrix}$"
      ],
      "text/plain": [
       "<IPython.core.display.Math object>"
      ]
     },
     "metadata": {},
     "output_type": "display_data"
    },
    {
     "data": {
      "text/latex": [
       "$\\displaystyle A=\\begin{pmatrix}-1.0000 & -1.0000 & 1.0000 & 0.0000 \\\\ -6.0000 & 3.0000 & 0.0000 & -24.0000 \\\\ 0.0000 & -3.0000 & -6.0000 & -12.0000\\end{pmatrix}$"
      ],
      "text/plain": [
       "<IPython.core.display.Math object>"
      ]
     },
     "metadata": {},
     "output_type": "display_data"
    },
    {
     "data": {
      "text/latex": [
       "$\\displaystyle M_1=\\begin{pmatrix}-1.0 & -1.0 & 1.0 & 0.0 \\\\ -6.0 & 3.0 & 0.0 & -24.0 \\\\ 0.0 & -3.0 & -6.0 & -12.0\\end{pmatrix}$"
      ],
      "text/plain": [
       "<IPython.core.display.Math object>"
      ]
     },
     "metadata": {},
     "output_type": "display_data"
    },
    {
     "data": {
      "text/latex": [
       "$\\displaystyle M_3=\\begin{pmatrix}-1.0 & -1.0 & 1.0 & 0.0 \\\\ -6.0 & 3.0 & 0.0 & -24.0 \\\\ 0.0 & -3.0 & -6.0 & -12.0\\end{pmatrix}$"
      ],
      "text/plain": [
       "<IPython.core.display.Math object>"
      ]
     },
     "metadata": {},
     "output_type": "display_data"
    },
    {
     "data": {
      "text/latex": [
       "$\\displaystyle M_k=\\begin{pmatrix}-1.0 & -1.0 & 1.0 & 0.0 \\\\ -6.0 & 3.0 & 0.0 & -24.0 \\\\ 0.0 & -3.0 & -6.0 & -12.0\\end{pmatrix}$"
      ],
      "text/plain": [
       "<IPython.core.display.Math object>"
      ]
     },
     "metadata": {},
     "output_type": "display_data"
    }
   ],
   "source": [
    "display(Math(Mat2MD(M)))\n",
    "display(Math(Mat2MD(M,\"A\", fmt=\".4f\")))\n",
    "display(Math(Mat2MD(M,\"M_1\"))) # subscript part of name\n",
    "display(Math(Mat2MD(M,\"M\",\"3\"))) # seperated subscript\n",
    "display(Math(Mat2MD(M,\"M\",\"k\")))"
   ]
  },
  {
   "cell_type": "markdown",
   "id": "1332abe0-13df-499a-9087-cd4fed550f44",
   "metadata": {},
   "source": [
    "### Nice Vector Rendering in Markdown ###"
   ]
  },
  {
   "cell_type": "code",
   "execution_count": 37,
   "id": "2ff400b7-90c5-4585-abca-938691500110",
   "metadata": {},
   "outputs": [],
   "source": [
    "def Vec2MD(v, name=\"\", idx=\"\", fmt=\"\"):\n",
    "    '''\n",
    "    2D numpy matrix to markdown code. \n",
    "    Generates a markdown string which can be rendered, e.g. by \n",
    "    IPython.display.display(Math(Mat2MD(M))).\n",
    "    \n",
    "    Parameters:\n",
    "    v: 1D numpy array, the vector\n",
    "    name: matrix name to be used in the rendering, \n",
    "          e.g. name=\"v\" renders to $v=...$\n",
    "    idx: index of the matrix name, \n",
    "         e.g. idx=\"k\" renders to $v_k=...$\n",
    "    fmt: number format of the matrix elements, \n",
    "         e.g. fmt=\".2f\" print floating point format with 2 decimals.\n",
    "    '''\n",
    "    matrix_string = \"\"\n",
    "    for x in v:\n",
    "        if matrix_string: matrix_string += r\" \\\\ \"\n",
    "#        fmt_string = f\"{x}\"\n",
    "        matrix_string += f\"{x:{fmt}}\"\n",
    "    if name:\n",
    "        if idx:\n",
    "            Mstr = name + \"_\" + idx + \"=\"\n",
    "        else:\n",
    "            Mstr = name + \"=\"\n",
    "    else:\n",
    "        Mstr = \"\"\n",
    "\n",
    "    return(Mstr + r\"\\begin{pmatrix}\" + matrix_string + r\"\\end{pmatrix}\")"
   ]
  },
  {
   "cell_type": "code",
   "execution_count": 38,
   "id": "ed417480-9622-49cb-a9ae-ff623656a974",
   "metadata": {},
   "outputs": [
    {
     "data": {
      "text/latex": [
       "$\\displaystyle \\begin{pmatrix}0.0 \\\\ -24.0 \\\\ -12.0\\end{pmatrix}$"
      ],
      "text/plain": [
       "<IPython.core.display.Math object>"
      ]
     },
     "metadata": {},
     "output_type": "display_data"
    }
   ],
   "source": [
    "v = np.array([  0., -24., -12.])\n",
    "v\n",
    "display(Math(Vec2MD(v)))"
   ]
  },
  {
   "cell_type": "markdown",
   "id": "d40abcf5-fb07-4a67-97eb-788cc506a86a",
   "metadata": {},
   "source": [
    "### Nice LES Rendering for Gauß Elimination ###"
   ]
  },
  {
   "cell_type": "code",
   "execution_count": 39,
   "id": "3fc29d1e-68ee-465e-bb04-e63fcc2f14f9",
   "metadata": {},
   "outputs": [],
   "source": [
    "def Gauss2MD(M, name=\"\", idx=\"\", fmt=\"g\"):\n",
    "    '''\n",
    "    2D numpy matrix to markdown code, output format for Gauß elimination.\n",
    "    Generates a markdown string which can be rendered, e.g. by \n",
    "    IPython.display.display(Math(Gauss2MD(M))).\n",
    "    \n",
    "    Parameters:\n",
    "    M: 2D numpy array, the matrix\n",
    "    name: matrix name to be used in the rendering, \n",
    "          e.g. name=\"A\" renders to $A=...$\n",
    "    idx: index of the matrix name, \n",
    "         e.g. idx=\"k\" renders to $A_k=...$\n",
    "    fmt: number format of the matrix elements, \n",
    "         e.g. fmt=\".2f\" print floating point format with 2 decimals.\n",
    "    '''\n",
    "    matrix_string = \"\"\n",
    "    for r in M:\n",
    "#        if matrix_string: matrix_string += r\" \\\\ \"\n",
    "        matrix_string += \" & \".join([f\"{x:{fmt}}\" for x in r]) + r\"\\\\\"\n",
    "    if name:\n",
    "        if idx:\n",
    "            Mstr = name + \"_\" + idx + \"=\"\n",
    "        else:\n",
    "            Mstr = name + \"=\"\n",
    "    else:\n",
    "        Mstr = \"\"\n",
    "        \n",
    "    (m,n) = M.shape\n",
    "    fmt = \"{\"+(n-1)*\"c\"+\"|\"+\"c\"+\"}\"\n",
    "    \n",
    "    return(Mstr + r\"\\left(\\begin{array}\" + fmt + matrix_string + r\"\\end{array}\\right)\")"
   ]
  },
  {
   "cell_type": "code",
   "execution_count": 40,
   "id": "47d66fc6-9d9a-4473-b351-bf4844e99720",
   "metadata": {},
   "outputs": [
    {
     "data": {
      "text/latex": [
       "$\\displaystyle \\left(\\begin{array}{ccc|c}-1 & -1 & 1 & 0\\\\-6 & 3 & 0 & -24\\\\0 & -3 & -6 & -12\\\\\\end{array}\\right)$"
      ],
      "text/plain": [
       "<IPython.core.display.Math object>"
      ]
     },
     "metadata": {},
     "output_type": "display_data"
    },
    {
     "data": {
      "text/latex": [
       "$\\displaystyle A=\\left(\\begin{array}{ccc|c}-1.000 & -1.000 & 1.000 & 0.000\\\\-6.000 & 3.000 & 0.000 & -24.000\\\\0.000 & -3.000 & -6.000 & -12.000\\\\\\end{array}\\right)$"
      ],
      "text/plain": [
       "<IPython.core.display.Math object>"
      ]
     },
     "metadata": {},
     "output_type": "display_data"
    },
    {
     "data": {
      "text/latex": [
       "$\\displaystyle M_1=\\left(\\begin{array}{ccc|c}-1.00e+00 & -1.00e+00 & 1.00e+00 & 0.00e+00\\\\-6.00e+00 & 3.00e+00 & 0.00e+00 & -2.40e+01\\\\0.00e+00 & -3.00e+00 & -6.00e+00 & -1.20e+01\\\\\\end{array}\\right)$"
      ],
      "text/plain": [
       "<IPython.core.display.Math object>"
      ]
     },
     "metadata": {},
     "output_type": "display_data"
    },
    {
     "data": {
      "text/latex": [
       "$\\displaystyle M_k=\\left(\\begin{array}{ccc|c}-1 & -1 & 1 & 0\\\\-6 & 3 & 0 & -24\\\\0 & -3 & -6 & -12\\\\\\end{array}\\right)$"
      ],
      "text/plain": [
       "<IPython.core.display.Math object>"
      ]
     },
     "metadata": {},
     "output_type": "display_data"
    }
   ],
   "source": [
    "display(Math(Gauss2MD(M)))\n",
    "display(Math(Gauss2MD(M,\"A\",fmt=\".3f\")))\n",
    "display(Math(Gauss2MD(M,\"M\",\"1\",fmt=\".2e\")))\n",
    "display(Math(Gauss2MD(M,\"M_k\")))"
   ]
  },
  {
   "cell_type": "code",
   "execution_count": 15,
   "id": "4dee78e7-65dd-4782-b149-0027ea23b48d",
   "metadata": {},
   "outputs": [
    {
     "name": "stdout",
     "output_type": "stream",
     "text": [
      "Ordinary Python print output:\n",
      "[[ -1.  -1.   1.   0.]\n",
      " [ -6.   3.   0. -24.]\n",
      " [  0.  -3.  -6. -12.]]\n",
      "\n",
      "Nice markdown rendering:\n"
     ]
    },
    {
     "data": {
      "text/latex": [
       "$\\displaystyle M=\\left(\\begin{array}{ccc|c}-1 & -1 & 1 & 0\\\\-6 & 3 & 0 & -24\\\\0 & -3 & -6 & -12\\\\\\end{array}\\right)$"
      ],
      "text/plain": [
       "<IPython.core.display.Math object>"
      ]
     },
     "metadata": {},
     "output_type": "display_data"
    }
   ],
   "source": [
    "# Ordinary Python print output:\n",
    "print(\"Ordinary Python print output:\")\n",
    "print(M)\n",
    "print()\n",
    "\n",
    "# Nice markdown redering:\n",
    "print(\"Nice markdown rendering:\")\n",
    "display(Math(Gauss2MD(M,\"M\")))"
   ]
  },
  {
   "cell_type": "markdown",
   "id": "353e8ad7-6ba5-44fe-bac4-5e5705c8ad1a",
   "metadata": {},
   "source": [
    "## The Gauß Jordan Pivoting Algorithm \n",
    "\n",
    "Let us start with the matrix $A$:\n",
    "\n",
    "$\n",
    "A=\\left(\\begin{array}{ccc|c}-1 & -1 & 1 & 0\\\\-6 & 3 & 0 & -24\\\\0 & -3 & -6 & -12\\\\\\end{array}\\right)\n",
    "$\n",
    "\n",
    "Let us take two row vectors of matrix $A$, indicated by a single index:\n",
    "<br>\n",
    "$\n",
    "A_0= (-1,\\; -1,\\; 1,\\; 0)\n",
    "$\n",
    "<br>\n",
    "$\n",
    "A_1 = (-6,\\; 3,\\; 0,\\; -24)\n",
    "$\n",
    "\n",
    "Element $0$ (column 0 of the matrix, the pivot column) of the row vectors (indicated by two indexes):\n",
    "<br>\n",
    "$\n",
    "A_{0,0} = -1\n",
    "$\n",
    "<br>\n",
    "$\n",
    "A_{1,0} = -6\n",
    "$\n",
    "\n",
    "Normalization:\n",
    "\n",
    "$\n",
    "\\begin{eqnarray}\n",
    "\\frac{A_0}{A_{0,0}} & = & (1,\\; 1,\\; -1,\\; 0)\n",
    "\\\\\n",
    "\\frac{A_1}{A_{1,0}} & = & (1,\\; -0.5,\\; 0,\\; 4)\n",
    "\\end{eqnarray}\n",
    "$\n",
    "\n",
    "\n",
    "A **linear combination** of the row vectors is used to eliminate element $0$ of $A_1$:\n",
    "\n",
    "$\n",
    "\\begin{eqnarray}\n",
    "A^\\mathrm{new}_1 & = & \\frac{A_1}{A_{1,0}}-\\frac{A_0}{A_{0,0}} \n",
    "= (1,\\; -0.5,\\; 0,\\; 4) - (1,\\; 1,\\; -1,\\; 0) \n",
    "= (0,\\; -1.5,\\; 1,\\; 4)\n",
    "\\end{eqnarray}\n",
    "$\n",
    "\n",
    "Let us do the calculations it in Python:"
   ]
  },
  {
   "cell_type": "code",
   "execution_count": 16,
   "id": "ebb1fdf3-531c-4fc7-b82b-7f3d442b71ce",
   "metadata": {},
   "outputs": [
    {
     "name": "stdout",
     "output_type": "stream",
     "text": [
      "[-1. -1.  1.  0.]\n"
     ]
    }
   ],
   "source": [
    "# row 0 \n",
    "print(M[0])"
   ]
  },
  {
   "cell_type": "code",
   "execution_count": 17,
   "id": "d5bc78df-f400-41de-a0be-7ebaa4daf02f",
   "metadata": {},
   "outputs": [
    {
     "name": "stdout",
     "output_type": "stream",
     "text": [
      "-1.0\n"
     ]
    }
   ],
   "source": [
    "# column 0 of row 0, column 0 is the current pivot column\n",
    "print(M[0,0])"
   ]
  },
  {
   "cell_type": "code",
   "execution_count": 18,
   "id": "c66ab082-278c-43ae-972f-73501ae5711c",
   "metadata": {},
   "outputs": [
    {
     "name": "stdout",
     "output_type": "stream",
     "text": [
      "[ 1.  1. -1. -0.]\n"
     ]
    }
   ],
   "source": [
    "# normalize row 0\n",
    "print(M[0]/M[0,0])"
   ]
  },
  {
   "cell_type": "code",
   "execution_count": 19,
   "id": "93c7f7d2-2b95-43ce-9404-7dd463ef2955",
   "metadata": {},
   "outputs": [
    {
     "name": "stdout",
     "output_type": "stream",
     "text": [
      "[ -6.   3.   0. -24.]\n"
     ]
    }
   ],
   "source": [
    "# row 1 \n",
    "print(M[1])"
   ]
  },
  {
   "cell_type": "code",
   "execution_count": 20,
   "id": "7bfb8f02-ba94-459d-844c-58052bfe1b3f",
   "metadata": {},
   "outputs": [
    {
     "name": "stdout",
     "output_type": "stream",
     "text": [
      "-6.0\n"
     ]
    }
   ],
   "source": [
    "# column 0 of row 1, column 0 is the current pivot column\n",
    "print(M[1,0])"
   ]
  },
  {
   "cell_type": "code",
   "execution_count": 21,
   "id": "ee11aff8-7011-4426-a3b5-30580e08f8d3",
   "metadata": {},
   "outputs": [
    {
     "name": "stdout",
     "output_type": "stream",
     "text": [
      "[ 1.  -0.5 -0.   4. ]\n"
     ]
    }
   ],
   "source": [
    "#normalize row 1\n",
    "print(M[1]/M[1,0])"
   ]
  },
  {
   "cell_type": "code",
   "execution_count": 22,
   "id": "c1d6c79a-a55e-4c58-abaa-30a997d63710",
   "metadata": {},
   "outputs": [
    {
     "name": "stdout",
     "output_type": "stream",
     "text": [
      "[ 0.  -1.5  1.   4. ]\n"
     ]
    }
   ],
   "source": [
    "# subtract the normalized rows:\n",
    "print(M[1]/M[1,0] - M[0]/M[0,0])"
   ]
  },
  {
   "cell_type": "markdown",
   "id": "36124ee9-5b86-4dd5-a1d0-3548ec49a4c2",
   "metadata": {},
   "source": [
    "The pivot element is eliminated. The result can be stored as the new row 0 or row 1 in the matrix."
   ]
  },
  {
   "cell_type": "markdown",
   "id": "21c71af0-8c1f-48b5-b380-9fc8a7dca6ce",
   "metadata": {},
   "source": [
    "### Gauss_Pivot(): The Pivoting Function to Create Row Echelon Form ###\n",
    "\n",
    "**Let's create a function of automize the necessary operations!**\n",
    "\n",
    "We need (1) the appropriate linear combination of two row vectors to eliminate the pivot element and (2) a normalization of rows (i.e. the division by an appropriate number) such that the pivot element becomes $1$. "
   ]
  },
  {
   "cell_type": "code",
   "execution_count": 23,
   "id": "62090051-db00-43f2-b940-88fc7451c442",
   "metadata": {
    "tags": []
   },
   "outputs": [],
   "source": [
    "#def Gauss_Pivot(M,from_row,to_row,pivot_col,debug=False):\n",
    "def Gauss_Pivot(M,row0,row1,col,debug=False):\n",
    "    '''\n",
    "    Function to perform operations typical for Gauß elimination.\n",
    "    It returns a new matrix based on the operations.\n",
    "    \n",
    "    Parameters:\n",
    "    M: 2D input matrix (2D numpy array)\n",
    "    row0: matrix row index of the first row of the operation (0 based indexing)\n",
    "    row1: matrix row index of the second row of the operation (0 based indexing)\n",
    "          The result of the operation is stored in row1.\n",
    "    col: pivot column index at which the second row is to be set to 0.\n",
    "    \n",
    "    Operation 1 (initiated if row0 != row1): linear combination of rows, elimination of pivot elt.\n",
    "               M[row1] = M[row1]/M[row1,col] - = M[row0]/M[row0,col]\n",
    "               \n",
    "    Operation 2 (initiated if row0 == row1): normalize the row\n",
    "               M[row1] = M[row1]/M[row1,col]\n",
    "    '''\n",
    "    MM=M.copy()\n",
    "    \n",
    "    (m,n)=MM.shape # can be used later ...\n",
    "\n",
    "    # old version:\n",
    "    # r = MM[row1,col] / MM[row2,col]\n",
    "    # MM[row2] = MM[row1] - r*MM[row2]\n",
    "    \n",
    "    if row0 != row1: # linear combination\n",
    "        MM[row1] = MM[row1]/MM[row1,col] - MM[row0]/MM[row0,col]\n",
    "    else: # row normalization, row is devided by its pivot element\n",
    "        MM[row1] = MM[row1]/MM[row1,col]\n",
    "\n",
    "    if debug:\n",
    "        print(MM[row0])\n",
    "        print(MM[row1])\n",
    "        print(MM[row0,col])\n",
    "        print(MM[row1,col])    \n",
    "        print(MM[row0]/MM[row0,col])\n",
    "        print(MM[row1]/MM[row1,col])\n",
    "\n",
    "    return(MM)"
   ]
  },
  {
   "cell_type": "code",
   "execution_count": 54,
   "id": "d4dced9c-283e-43b5-9d41-0a917ea9ffa5",
   "metadata": {},
   "outputs": [
    {
     "name": "stdout",
     "output_type": "stream",
     "text": [
      "Help on function Gauss_Pivot in module __main__:\n",
      "\n",
      "Gauss_Pivot(M, row0, row1, col, debug=False)\n",
      "    Function to perform operations typical for Gauß elimination.\n",
      "    It returns a new matrix based on the operations.\n",
      "    \n",
      "    Parameters:\n",
      "    M: 2D input matrix (2D numpy array)\n",
      "    row0: matrix row index of the first row of the operation (0 based indexing)\n",
      "    row1: matrix row index of the second row of the operation (0 based indexing)\n",
      "          The result of the operation is stored in row1.\n",
      "    col: pivot column index at which the second row is to be set to 0.\n",
      "    \n",
      "    Operation 1 (initiated if row0 != row1): linear combination of rows, elimination of pivot elt.\n",
      "               M[row1] = M[row1]/M[row1,col] - = M[row0]/M[row0,col]\n",
      "               \n",
      "    Operation 2 (initiated if row0 == row1): normalize the row\n",
      "               M[row1] = M[row1]/M[row1,col]\n",
      "\n"
     ]
    }
   ],
   "source": [
    "help(Gauss_Pivot)"
   ]
  },
  {
   "cell_type": "markdown",
   "id": "51fb61e7-0782-4a46-af65-4d0f6e2457b9",
   "metadata": {},
   "source": [
    "### Gauss_Pivot2(): Another Version of the Linear Combination of Rows"
   ]
  },
  {
   "cell_type": "code",
   "execution_count": 24,
   "id": "5402935c-3952-42ee-81bb-87b595b4cb96",
   "metadata": {},
   "outputs": [],
   "source": [
    "def Gauss_Pivot2(M,row0,f0,row1,f1,row2,debug=False):\n",
    "    '''\n",
    "    Function to perform operations typical for Gauß elimination.\n",
    "    It returns a new matrix based on the operations.\n",
    "    row2 <- f0*row0 + f1*row1\n",
    "    \n",
    "    Parameters:\n",
    "    M: 2D input matrix (2D numpy array)\n",
    "    row0: matrix row index of the first row of the operation (0 based indexing)\n",
    "    f0:   linear factor for row0\n",
    "    row1: matrix row index of the second row of the operation (0 based indexing)\n",
    "    f1:   linear factor for row1\n",
    "    row2: the result of the operation is stored in row2.\n",
    "    \n",
    "    Example:\n",
    "    M2 = Gauss_Pivot2(M1,0,1,2,-1/3,2) # operation on rows: M1[0]*1 + M1[2]*(-1/3) -> M1[2]\n",
    "    '''\n",
    "\n",
    "    MM=M.copy().astype(np.float64) # (double precision float)\n",
    "    \n",
    "    (m,n)=MM.shape # can be used later ...\n",
    "\n",
    "    res = f0*MM[row0] + f1*MM[row1] \n",
    "\n",
    "    if debug:\n",
    "        print(f\"MM[{row0}] = {MM[row0]}\")\n",
    "        print(f\"MM[{row1}] = {MM[row1]}\")\n",
    "        print(f\"f0*MM[{row0}] = {f0*MM[row0]}\")\n",
    "        print(f\"f1*MM[{row1}] = {f1*MM[row1]}\")\n",
    "        print(f\"MM[{row2}] = {res}\")\n",
    "        \n",
    "    MM[row2] = res\n",
    "    \n",
    "    return(MM)"
   ]
  },
  {
   "cell_type": "markdown",
   "id": "1082e33b-be55-4504-bc80-35f5a11d0bea",
   "metadata": {},
   "source": [
    "## Apply the Pivoting Function to Achieve the Row Echelon Form of the Matrix"
   ]
  },
  {
   "cell_type": "code",
   "execution_count": 55,
   "id": "a5e33cbd-48e3-4b8d-bee5-81c3c710f015",
   "metadata": {
    "tags": []
   },
   "outputs": [
    {
     "data": {
      "text/latex": [
       "$\\displaystyle M=\\left(\\begin{array}{ccc|c}-1 & -1 & 1 & 0\\\\-6 & 3 & 0 & -24\\\\0 & -3 & -6 & -12\\\\\\end{array}\\right)$"
      ],
      "text/plain": [
       "<IPython.core.display.Math object>"
      ]
     },
     "metadata": {},
     "output_type": "display_data"
    }
   ],
   "source": [
    "display(Math(Gauss2MD(M,\"M\")))"
   ]
  },
  {
   "cell_type": "code",
   "execution_count": 56,
   "id": "36c2f1ac-337a-4211-97b0-6bdd0996698a",
   "metadata": {},
   "outputs": [
    {
     "data": {
      "text/latex": [
       "$\\displaystyle M_1=\\left(\\begin{array}{ccc|c}-1 & -1 & 1 & 0\\\\0 & -1.5 & 1 & 4\\\\0 & -3 & -6 & -12\\\\\\end{array}\\right)$"
      ],
      "text/plain": [
       "<IPython.core.display.Math object>"
      ]
     },
     "metadata": {},
     "output_type": "display_data"
    }
   ],
   "source": [
    "M1 = Gauss_Pivot(M,0,1,0)\n",
    "display(Math(Gauss2MD(M1,\"M_1\")))"
   ]
  },
  {
   "cell_type": "code",
   "execution_count": 57,
   "id": "6c39d3f1-e548-404f-9b41-dbcf46e5b6cc",
   "metadata": {},
   "outputs": [
    {
     "data": {
      "text/latex": [
       "$\\displaystyle M_2=\\left(\\begin{array}{ccc|c}-1.0000 & -1.0000 & 1.0000 & 0.0000\\\\0.0000 & -1.5000 & 1.0000 & 4.0000\\\\0.0000 & 0.0000 & 2.6667 & 6.6667\\\\\\end{array}\\right)$"
      ],
      "text/plain": [
       "<IPython.core.display.Math object>"
      ]
     },
     "metadata": {},
     "output_type": "display_data"
    }
   ],
   "source": [
    "M2 = Gauss_Pivot(M1,1,2,1)\n",
    "display(Math(Gauss2MD(M2,\"M_2\", fmt=\".4f\")))"
   ]
  },
  {
   "cell_type": "code",
   "execution_count": 58,
   "id": "017e1e50-a78c-4487-a07a-cef142b6a2c9",
   "metadata": {},
   "outputs": [
    {
     "name": "stdout",
     "output_type": "stream",
     "text": [
      "2.6667\n",
      "6.6667\n"
     ]
    }
   ],
   "source": [
    "print(f\"{2 + 2/3:.4f}\")\n",
    "print(f\"{6 + 2/3:.4f}\")"
   ]
  },
  {
   "cell_type": "markdown",
   "id": "4fdbd24e-5b22-4591-90ff-fc9b16e77cb8",
   "metadata": {},
   "source": [
    "**This is already the row echelon form!**\n",
    "<br>\n",
    "But let us go on! \n",
    "<br>\n",
    "Now we work from last row to first row to diagonalize the left part."
   ]
  },
  {
   "cell_type": "code",
   "execution_count": 59,
   "id": "f4ccef67-39b9-4d4f-a324-1ec42173f58d",
   "metadata": {},
   "outputs": [
    {
     "data": {
      "text/latex": [
       "$\\displaystyle M_3=\\left(\\begin{array}{ccc|c}-1 & -1 & 1 & 0\\\\0 & -1.5 & 1 & 4\\\\0 & 0 & 1 & 2.5\\\\\\end{array}\\right)$"
      ],
      "text/plain": [
       "<IPython.core.display.Math object>"
      ]
     },
     "metadata": {},
     "output_type": "display_data"
    }
   ],
   "source": [
    "# normalize row 2\n",
    "M3 = Gauss_Pivot(M2,2,2,2)\n",
    "display(Math(Gauss2MD(M3,\"M_3\")))"
   ]
  },
  {
   "cell_type": "code",
   "execution_count": 60,
   "id": "e6c1306d-7db7-4091-a2ff-acef90d30ce0",
   "metadata": {},
   "outputs": [
    {
     "data": {
      "text/latex": [
       "$\\displaystyle M_4=\\left(\\begin{array}{ccc|c}-1 & -1 & 1 & 0\\\\0 & -1.5 & 0 & 1.5\\\\0 & 0 & 1 & 2.5\\\\\\end{array}\\right)$"
      ],
      "text/plain": [
       "<IPython.core.display.Math object>"
      ]
     },
     "metadata": {},
     "output_type": "display_data"
    }
   ],
   "source": [
    "# row 2 -> row 1, pivot column 2\n",
    "M4 = Gauss_Pivot(M3,2,1,2)\n",
    "display(Math(Gauss2MD(M4,\"M_4\")))"
   ]
  },
  {
   "cell_type": "code",
   "execution_count": 61,
   "id": "1f6ed741-606e-422d-a1ab-c8758a9e3cd9",
   "metadata": {},
   "outputs": [
    {
     "data": {
      "text/latex": [
       "$\\displaystyle M_5=\\left(\\begin{array}{ccc|c}-1 & -1 & 1 & 0\\\\-0 & 1 & -0 & -1\\\\0 & 0 & 1 & 2.5\\\\\\end{array}\\right)$"
      ],
      "text/plain": [
       "<IPython.core.display.Math object>"
      ]
     },
     "metadata": {},
     "output_type": "display_data"
    }
   ],
   "source": [
    "# normalize row 1, pivot column 1\n",
    "M5 = Gauss_Pivot(M4,1,1,1)\n",
    "display(Math(Gauss2MD(M5,\"M_5\")))"
   ]
  },
  {
   "cell_type": "code",
   "execution_count": 62,
   "id": "e0e8e6b5-13b8-4cf5-b6ff-fde0f849727a",
   "metadata": {},
   "outputs": [
    {
     "data": {
      "text/latex": [
       "$\\displaystyle M_6=\\left(\\begin{array}{ccc|c}-1 & -1 & 0 & -2.5\\\\-0 & 1 & -0 & -1\\\\0 & 0 & 1 & 2.5\\\\\\end{array}\\right)$"
      ],
      "text/plain": [
       "<IPython.core.display.Math object>"
      ]
     },
     "metadata": {},
     "output_type": "display_data"
    }
   ],
   "source": [
    "# row 2 -> row 0, pivot column 2\n",
    "M6 = Gauss_Pivot(M5,2,0,2)\n",
    "display(Math(Gauss2MD(M6,\"M_6\")))"
   ]
  },
  {
   "cell_type": "code",
   "execution_count": 63,
   "id": "1f4e8c3d-54c3-454a-b2f5-7541a153c21b",
   "metadata": {
    "tags": []
   },
   "outputs": [
    {
     "data": {
      "text/latex": [
       "$\\displaystyle M_7=\\left(\\begin{array}{ccc|c}1 & 0 & 0 & 3.5\\\\-0 & 1 & -0 & -1\\\\0 & 0 & 1 & 2.5\\\\\\end{array}\\right)$"
      ],
      "text/plain": [
       "<IPython.core.display.Math object>"
      ]
     },
     "metadata": {},
     "output_type": "display_data"
    }
   ],
   "source": [
    "# row 1 -> row 0, pivot column 1\n",
    "M7 = Gauss_Pivot(M6,1,0,1)\n",
    "display(Math(Gauss2MD(M7,\"M_7\")))"
   ]
  },
  {
   "cell_type": "code",
   "execution_count": 64,
   "id": "1e7e5381-f311-497b-a203-a5d35dc954b4",
   "metadata": {},
   "outputs": [
    {
     "data": {
      "text/latex": [
       "$\\displaystyle M_8=\\left(\\begin{array}{ccc|c}1 & 0 & 0 & 3.5\\\\-0 & 1 & -0 & -1\\\\0 & 0 & 1 & 2.5\\\\\\end{array}\\right)$"
      ],
      "text/plain": [
       "<IPython.core.display.Math object>"
      ]
     },
     "metadata": {},
     "output_type": "display_data"
    }
   ],
   "source": [
    "# normalize row 0\n",
    "M8 = Gauss_Pivot(M7,0,0,0)\n",
    "display(Math(Gauss2MD(M8,\"M_8\")))"
   ]
  },
  {
   "cell_type": "markdown",
   "id": "6fbcb451-1d51-4bcf-8e85-504386b6b189",
   "metadata": {},
   "source": [
    "### Final Results"
   ]
  },
  {
   "cell_type": "markdown",
   "id": "f920cf32-63ab-4b9e-a0f5-3f24b542aa2b",
   "metadata": {},
   "source": [
    "**The final result reads:**\n",
    "\n",
    "$\n",
    "\\left(\\begin{array}{ccc}\n",
    "1 & 0 & 0 \\\\\n",
    "0 & 1 & 0 \\\\\n",
    "0 & 0 & 1 \\\\\n",
    "\\end{array}\\right)\n",
    "\\left(\\begin{array}{c}\n",
    "I_1 \\\\\n",
    "I_2 \\\\\n",
    "I_3 \\\\\n",
    "\\end{array}\\right) =\n",
    "\\left(\\begin{array}{c}\n",
    "3.5 \\\\\n",
    "-1 \\\\\n",
    "2.5 \\\\\n",
    "\\end{array}\\right)\n",
    "$\n",
    "\n",
    "i.e.\n",
    "<br>\n",
    "$1\\cdot I_1 + 0\\cdot I_2 + 0\\cdot I_3 = 3.5$, etc.\n",
    "<br>\n",
    "$\\Leftrightarrow$ \n",
    "<br>\n",
    "$I_1 = 3.5\\mathrm{A}$\n",
    "<br>\n",
    "$I_2 = -1\\mathrm{A}$\n",
    "<br>\n",
    "$I_3 = 2.5\\mathrm{A}$"
   ]
  },
  {
   "cell_type": "markdown",
   "id": "5e0fb90f-76c9-42ee-ae54-d301e964ac6b",
   "metadata": {},
   "source": [
    "## Smart Solution by Matrix Inversion"
   ]
  },
  {
   "cell_type": "code",
   "execution_count": 65,
   "id": "d751d0f8-1901-446c-bc70-e7c651907edf",
   "metadata": {},
   "outputs": [
    {
     "data": {
      "text/latex": [
       "$\\displaystyle \\left(\\begin{array}{ccc|c}-1 & -1 & 1 & 0\\\\-6 & 3 & 0 & -24\\\\0 & -3 & -6 & -12\\\\\\end{array}\\right)$"
      ],
      "text/plain": [
       "<IPython.core.display.Math object>"
      ]
     },
     "metadata": {},
     "output_type": "display_data"
    },
    {
     "data": {
      "text/latex": [
       "$\\displaystyle M=\\begin{pmatrix}-1.0 & -1.0 & 1.0 & 0.0 \\\\ -6.0 & 3.0 & 0.0 & -24.0 \\\\ 0.0 & -3.0 & -6.0 & -12.0\\end{pmatrix}$"
      ],
      "text/plain": [
       "<IPython.core.display.Math object>"
      ]
     },
     "metadata": {},
     "output_type": "display_data"
    }
   ],
   "source": [
    "display(Math(Gauss2MD(M)))\n",
    "display(Math(Mat2MD(M,name=\"M\")))"
   ]
  },
  {
   "cell_type": "markdown",
   "id": "77013e3a-838f-4999-b596-5be3627a4e83",
   "metadata": {},
   "source": [
    "**Extract the Resistance Matrix**"
   ]
  },
  {
   "cell_type": "code",
   "execution_count": 66,
   "id": "1dd643d8-b8a6-477e-8006-e3ca68b3f250",
   "metadata": {},
   "outputs": [
    {
     "data": {
      "text/latex": [
       "$\\displaystyle {\\bf R}=\\begin{pmatrix}-1.0 & -1.0 & 1.0 \\\\ -6.0 & 3.0 & 0.0 \\\\ 0.0 & -3.0 & -6.0\\end{pmatrix}$"
      ],
      "text/plain": [
       "<IPython.core.display.Math object>"
      ]
     },
     "metadata": {},
     "output_type": "display_data"
    }
   ],
   "source": [
    "R = M[:,:-1]\n",
    "display(Math(Mat2MD(R,name=r\"{\\bf R}\")))"
   ]
  },
  {
   "cell_type": "markdown",
   "id": "d4a0632d-a2d8-4529-a515-d7ef3946f0a2",
   "metadata": {},
   "source": [
    "**Extract the Voltage Vector**"
   ]
  },
  {
   "cell_type": "code",
   "execution_count": 67,
   "id": "0fc5c47d-76dc-4d32-8e1e-a6638637d740",
   "metadata": {},
   "outputs": [
    {
     "data": {
      "text/latex": [
       "$\\displaystyle \\vec{V}=\\begin{pmatrix}0.0 \\\\ -24.0 \\\\ -12.0\\end{pmatrix}$"
      ],
      "text/plain": [
       "<IPython.core.display.Math object>"
      ]
     },
     "metadata": {},
     "output_type": "display_data"
    }
   ],
   "source": [
    "V = M[:,-1]\n",
    "display(Math(Vec2MD(V,name=r\"\\vec{V}\")))"
   ]
  },
  {
   "cell_type": "markdown",
   "id": "4b803947-1706-4564-abf6-686a52ea2d3f",
   "metadata": {},
   "source": [
    "**The LES:**\n",
    "\n",
    "${\\bf R} \\vec{I} = \\vec{V}$\n",
    "\n",
    "The inverse matrix ${\\bf R^{^-1}}$ is another matrix with the following property:\n",
    "\n",
    "$$\n",
    "{\\bf R^{^-1} R} = \\mathbb{1} = \\begin{pmatrix} 1 & 0 & 0 \\\\ 0 & 1 & 0 \\\\ 0 & 0 & 1 \\end{pmatrix}\n",
    "$$\n",
    "\n",
    "Sometimes such a matrix called $\\bf R^{^-1}$ does not exist. Not all matrices ${\\bf R}$ have an inverse.\n",
    "<br>\n",
    "If the inverse matrix ${\\bf R^{^-1}}$ exists then the matrix multiplication of ${\\bf R^{^-1}}$ and ${\\bf R}$ yields the unit matrix (aka identity matrix). You have to find the matrix ${\\bf R^{^-1}}$ such that this works. \n",
    "\n",
    "If ${\\bf R^{^-1}}$ exists, then we can multiply it **from the left side** to the LES equation above (notice: matrix-matrix multiplications are generally not commutative, i.e. ${\\bf AB \\neq BA}$):\n",
    "\n",
    "$\n",
    "\\begin{eqnarray}\n",
    "{\\bf R^{^-1}}{\\bf R} \\vec{I} & = & {\\bf R^{^-1}}\\vec{V} \n",
    " \\Leftrightarrow \\mathbb{1}\\vec{I} = {\\bf R^{^-1}}\\vec{V} \n",
    " \\Leftrightarrow \\vec{I} = {\\bf R^{^-1}}\\vec{V}\n",
    "\\end{eqnarray}\n",
    "$\n",
    "\n",
    "This means if we find the matrix ${\\bf R^{^-1}}$ we can determine $\\vec{I}$ by a simple vector matrix multiplication:\n",
    "\n",
    "$$\n",
    "\\vec{I} = {\\bf R^{^-1}}\\vec{V}\n",
    "$$\n",
    "\n",
    "**Numpy provides nice functions from linear algebra to find the inverse matrix if it exists!**"
   ]
  },
  {
   "cell_type": "code",
   "execution_count": 68,
   "id": "452fc10b-12b3-4bdb-9ed8-ca92f76cb6dd",
   "metadata": {},
   "outputs": [
    {
     "data": {
      "text/latex": [
       "$\\displaystyle {\\bf R^{-1}}=\\begin{pmatrix}-0.2500 & -0.1250 & -0.0417 \\\\ -0.5000 & 0.0833 & -0.0833 \\\\ 0.2500 & -0.0417 & -0.1250\\end{pmatrix}$"
      ],
      "text/plain": [
       "<IPython.core.display.Math object>"
      ]
     },
     "metadata": {},
     "output_type": "display_data"
    }
   ],
   "source": [
    "Rinv = np.linalg.inv(R)\n",
    "display(Math(Mat2MD(Rinv,name=r\"{\\bf R^{-1}}\", fmt = \".4f\")))"
   ]
  },
  {
   "cell_type": "code",
   "execution_count": 69,
   "id": "248dd474-11a0-4017-a4b6-0e281becc862",
   "metadata": {},
   "outputs": [
    {
     "data": {
      "text/latex": [
       "$\\displaystyle {\\bf T = R^{-1}R}=\\begin{pmatrix}1.0000 & -0.0000 & -0.0000 \\\\ 0.0000 & 1.0000 & -0.0000 \\\\ 0.0000 & 0.0000 & 1.0000\\end{pmatrix}$"
      ],
      "text/plain": [
       "<IPython.core.display.Math object>"
      ]
     },
     "metadata": {},
     "output_type": "display_data"
    }
   ],
   "source": [
    "# TEST!\n",
    "T = Rinv.dot(R)\n",
    "display(Math(Mat2MD(T,name=r\"{\\bf T = R^{-1}R}\", fmt = \".4f\")))"
   ]
  },
  {
   "cell_type": "markdown",
   "id": "64723488-9b34-4874-b0df-5d4d10c74555",
   "metadata": {},
   "source": [
    "The test shows: $\\bf R^{^-1}$ is indeed the inverse of ${\\bf R}$ because the product is the identity.\n",
    "\n",
    "Now let us solve $\\vec{I} = {\\bf R^{^-1}}\\vec{V}$"
   ]
  },
  {
   "cell_type": "code",
   "execution_count": 70,
   "id": "ab7245d5-bcde-43bf-ad1f-15107a5a722e",
   "metadata": {},
   "outputs": [],
   "source": [
    "I = Rinv.dot(V)"
   ]
  },
  {
   "cell_type": "code",
   "execution_count": 72,
   "id": "ce14480e-abab-4abd-89d9-bce7c0008b74",
   "metadata": {},
   "outputs": [
    {
     "data": {
      "text/latex": [
       "$\\displaystyle I=\\begin{pmatrix}3.5 \\\\ -1.0 \\\\ 2.5\\end{pmatrix}$"
      ],
      "text/plain": [
       "<IPython.core.display.Math object>"
      ]
     },
     "metadata": {},
     "output_type": "display_data"
    }
   ],
   "source": [
    "display(Math(Vec2MD(I, name=\"I\")))"
   ]
  },
  {
   "cell_type": "markdown",
   "id": "908f65bd-8cf7-48d7-82bb-d20d5ba9c67d",
   "metadata": {},
   "source": [
    "**Yeppeee!!!**"
   ]
  },
  {
   "cell_type": "markdown",
   "id": "6774971f-57b2-4918-8071-798b4462c4f8",
   "metadata": {},
   "source": [
    "### Summarized Matrix Inversion\n",
    "\n",
    "Solve Kirchhoff's problem: $\\vec{I} = {\\bf R^{^-1}}\\vec{V}$\n",
    "\n",
    "BTW, it look like Ohm's law: $I=\\frac{1}{R}V$"
   ]
  },
  {
   "cell_type": "code",
   "execution_count": 52,
   "id": "705cd8b0-b024-4c45-abc7-a12822b69fd7",
   "metadata": {},
   "outputs": [
    {
     "name": "stdout",
     "output_type": "stream",
     "text": [
      "[ 3.5 -1.   2.5]\n"
     ]
    }
   ],
   "source": [
    "import numpy as np\n",
    "\n",
    "# A matrix is an array of rows, which are arrays. Thus a matrix is a two dimensional array.\n",
    "# The numpy.array() function is used to create 2D array (aka matrix) from a list of row lists.\n",
    "R = np.array(\n",
    "    [\n",
    "        [-1.0, -1.0,  1.0],\n",
    "        [-6.0,  3.0,  0.0],\n",
    "        [ 0.0, -3.0, -6.0]\n",
    "    ])\n",
    "\n",
    "V = np.array([0.0, -24.0, -12.0])\n",
    "\n",
    "# Inverse matrix\n",
    "Rinv = np.linalg.inv(R)\n",
    "\n",
    "# Matrix vector multiplication, aka dot product\n",
    "I = Rinv.dot(V)\n",
    "\n",
    "# Print currents\n",
    "print(I)"
   ]
  },
  {
   "cell_type": "code",
   "execution_count": null,
   "id": "ac7a8596-42b8-4442-87bf-a43037540553",
   "metadata": {},
   "outputs": [],
   "source": []
  }
 ],
 "metadata": {
  "kernelspec": {
   "display_name": "Python 3 (ipykernel)",
   "language": "python",
   "name": "python3"
  },
  "language_info": {
   "codemirror_mode": {
    "name": "ipython",
    "version": 3
   },
   "file_extension": ".py",
   "mimetype": "text/x-python",
   "name": "python",
   "nbconvert_exporter": "python",
   "pygments_lexer": "ipython3",
   "version": "3.10.8"
  }
 },
 "nbformat": 4,
 "nbformat_minor": 5
}
